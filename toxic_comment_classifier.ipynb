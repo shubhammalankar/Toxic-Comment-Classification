{
 "cells": [
  {
   "cell_type": "code",
   "execution_count": 1,
   "id": "377eafd3",
   "metadata": {},
   "outputs": [
    {
     "name": "stdout",
     "output_type": "stream",
     "text": [
      "Requirement already satisfied: talos in c:\\users\\shrav\\anaconda3\\lib\\site-packages (1.3)\n",
      "Requirement already satisfied: pandas in c:\\users\\shrav\\anaconda3\\lib\\site-packages (from talos) (1.4.4)\n",
      "Requirement already satisfied: tensorflow>=2.0.0 in c:\\users\\shrav\\anaconda3\\lib\\site-packages (from talos) (2.10.0)\n",
      "Requirement already satisfied: wrangle in c:\\users\\shrav\\anaconda3\\lib\\site-packages (from talos) (0.7.2)\n",
      "Requirement already satisfied: tqdm in c:\\users\\shrav\\anaconda3\\lib\\site-packages (from talos) (4.64.1)\n",
      "Requirement already satisfied: requests in c:\\users\\shrav\\anaconda3\\lib\\site-packages (from talos) (2.28.1)\n",
      "Requirement already satisfied: chances in c:\\users\\shrav\\anaconda3\\lib\\site-packages (from talos) (0.1.9)\n",
      "Requirement already satisfied: sklearn in c:\\users\\shrav\\anaconda3\\lib\\site-packages (from talos) (0.0.post1)\n",
      "Requirement already satisfied: kerasplotlib in c:\\users\\shrav\\anaconda3\\lib\\site-packages (from talos) (1.0)\n",
      "Requirement already satisfied: numpy in c:\\users\\shrav\\anaconda3\\lib\\site-packages (from talos) (1.21.5)\n",
      "Requirement already satisfied: astetik in c:\\users\\shrav\\anaconda3\\lib\\site-packages (from talos) (1.13)\n",
      "Requirement already satisfied: statsmodels>=0.11.0 in c:\\users\\shrav\\anaconda3\\lib\\site-packages (from talos) (0.13.2)\n",
      "Requirement already satisfied: scipy>=1.3 in c:\\users\\shrav\\anaconda3\\lib\\site-packages (from statsmodels>=0.11.0->talos) (1.9.1)\n",
      "Requirement already satisfied: patsy>=0.5.2 in c:\\users\\shrav\\anaconda3\\lib\\site-packages (from statsmodels>=0.11.0->talos) (0.5.2)\n",
      "Requirement already satisfied: packaging>=21.3 in c:\\users\\shrav\\anaconda3\\lib\\site-packages (from statsmodels>=0.11.0->talos) (21.3)\n",
      "Requirement already satisfied: pytz>=2020.1 in c:\\users\\shrav\\anaconda3\\lib\\site-packages (from pandas->talos) (2022.1)\n",
      "Requirement already satisfied: python-dateutil>=2.8.1 in c:\\users\\shrav\\anaconda3\\lib\\site-packages (from pandas->talos) (2.8.2)\n",
      "Requirement already satisfied: flatbuffers>=2.0 in c:\\users\\shrav\\anaconda3\\lib\\site-packages (from tensorflow>=2.0.0->talos) (22.10.26)\n",
      "Requirement already satisfied: setuptools in c:\\users\\shrav\\anaconda3\\lib\\site-packages (from tensorflow>=2.0.0->talos) (63.4.1)\n",
      "Requirement already satisfied: wrapt>=1.11.0 in c:\\users\\shrav\\anaconda3\\lib\\site-packages (from tensorflow>=2.0.0->talos) (1.14.1)\n",
      "Requirement already satisfied: keras<2.11,>=2.10.0 in c:\\users\\shrav\\anaconda3\\lib\\site-packages (from tensorflow>=2.0.0->talos) (2.10.0)\n",
      "Requirement already satisfied: absl-py>=1.0.0 in c:\\users\\shrav\\anaconda3\\lib\\site-packages (from tensorflow>=2.0.0->talos) (1.3.0)\n",
      "Requirement already satisfied: grpcio<2.0,>=1.24.3 in c:\\users\\shrav\\anaconda3\\lib\\site-packages (from tensorflow>=2.0.0->talos) (1.50.0)\n",
      "Requirement already satisfied: tensorboard<2.11,>=2.10 in c:\\users\\shrav\\anaconda3\\lib\\site-packages (from tensorflow>=2.0.0->talos) (2.10.1)\n",
      "Requirement already satisfied: termcolor>=1.1.0 in c:\\users\\shrav\\anaconda3\\lib\\site-packages (from tensorflow>=2.0.0->talos) (2.1.0)\n",
      "Requirement already satisfied: typing-extensions>=3.6.6 in c:\\users\\shrav\\anaconda3\\lib\\site-packages (from tensorflow>=2.0.0->talos) (4.3.0)\n",
      "Requirement already satisfied: libclang>=13.0.0 in c:\\users\\shrav\\anaconda3\\lib\\site-packages (from tensorflow>=2.0.0->talos) (14.0.6)\n",
      "Requirement already satisfied: tensorflow-io-gcs-filesystem>=0.23.1 in c:\\users\\shrav\\anaconda3\\lib\\site-packages (from tensorflow>=2.0.0->talos) (0.27.0)\n",
      "Requirement already satisfied: six>=1.12.0 in c:\\users\\shrav\\anaconda3\\lib\\site-packages (from tensorflow>=2.0.0->talos) (1.16.0)\n",
      "Requirement already satisfied: keras-preprocessing>=1.1.1 in c:\\users\\shrav\\anaconda3\\lib\\site-packages (from tensorflow>=2.0.0->talos) (1.1.2)\n",
      "Requirement already satisfied: h5py>=2.9.0 in c:\\users\\shrav\\anaconda3\\lib\\site-packages (from tensorflow>=2.0.0->talos) (3.7.0)\n",
      "Requirement already satisfied: google-pasta>=0.1.1 in c:\\users\\shrav\\anaconda3\\lib\\site-packages (from tensorflow>=2.0.0->talos) (0.2.0)\n",
      "Requirement already satisfied: gast<=0.4.0,>=0.2.1 in c:\\users\\shrav\\anaconda3\\lib\\site-packages (from tensorflow>=2.0.0->talos) (0.4.0)\n",
      "Requirement already satisfied: opt-einsum>=2.3.2 in c:\\users\\shrav\\anaconda3\\lib\\site-packages (from tensorflow>=2.0.0->talos) (3.3.0)\n",
      "Requirement already satisfied: tensorflow-estimator<2.11,>=2.10.0 in c:\\users\\shrav\\anaconda3\\lib\\site-packages (from tensorflow>=2.0.0->talos) (2.10.0)\n",
      "Requirement already satisfied: astunparse>=1.6.0 in c:\\users\\shrav\\anaconda3\\lib\\site-packages (from tensorflow>=2.0.0->talos) (1.6.3)\n",
      "Requirement already satisfied: protobuf<3.20,>=3.9.2 in c:\\users\\shrav\\anaconda3\\lib\\site-packages (from tensorflow>=2.0.0->talos) (3.19.6)\n",
      "Requirement already satisfied: seaborn in c:\\users\\shrav\\anaconda3\\lib\\site-packages (from astetik->talos) (0.11.2)\n",
      "Requirement already satisfied: IPython in c:\\users\\shrav\\anaconda3\\lib\\site-packages (from astetik->talos) (7.31.1)\n",
      "Requirement already satisfied: geonamescache in c:\\users\\shrav\\anaconda3\\lib\\site-packages (from astetik->talos) (1.5.0)\n",
      "Requirement already satisfied: matplotlib in c:\\users\\shrav\\anaconda3\\lib\\site-packages (from kerasplotlib->talos) (3.5.2)\n",
      "Requirement already satisfied: urllib3<1.27,>=1.21.1 in c:\\users\\shrav\\anaconda3\\lib\\site-packages (from requests->talos) (1.26.11)\n",
      "Requirement already satisfied: charset-normalizer<3,>=2 in c:\\users\\shrav\\anaconda3\\lib\\site-packages (from requests->talos) (2.0.4)\n",
      "Requirement already satisfied: idna<4,>=2.5 in c:\\users\\shrav\\anaconda3\\lib\\site-packages (from requests->talos) (3.3)\n",
      "Requirement already satisfied: certifi>=2017.4.17 in c:\\users\\shrav\\anaconda3\\lib\\site-packages (from requests->talos) (2022.9.14)\n",
      "Requirement already satisfied: colorama in c:\\users\\shrav\\anaconda3\\lib\\site-packages (from tqdm->talos) (0.4.5)\n",
      "Requirement already satisfied: wheel<1.0,>=0.23.0 in c:\\users\\shrav\\anaconda3\\lib\\site-packages (from astunparse>=1.6.0->tensorflow>=2.0.0->talos) (0.37.1)\n",
      "Requirement already satisfied: pyparsing!=3.0.5,>=2.0.2 in c:\\users\\shrav\\anaconda3\\lib\\site-packages (from packaging>=21.3->statsmodels>=0.11.0->talos) (3.0.9)\n",
      "Requirement already satisfied: tensorboard-data-server<0.7.0,>=0.6.0 in c:\\users\\shrav\\anaconda3\\lib\\site-packages (from tensorboard<2.11,>=2.10->tensorflow>=2.0.0->talos) (0.6.1)\n",
      "Requirement already satisfied: google-auth-oauthlib<0.5,>=0.4.1 in c:\\users\\shrav\\anaconda3\\lib\\site-packages (from tensorboard<2.11,>=2.10->tensorflow>=2.0.0->talos) (0.4.6)\n",
      "Requirement already satisfied: werkzeug>=1.0.1 in c:\\users\\shrav\\anaconda3\\lib\\site-packages (from tensorboard<2.11,>=2.10->tensorflow>=2.0.0->talos) (2.0.3)\n",
      "Requirement already satisfied: markdown>=2.6.8 in c:\\users\\shrav\\anaconda3\\lib\\site-packages (from tensorboard<2.11,>=2.10->tensorflow>=2.0.0->talos) (3.3.4)\n",
      "Requirement already satisfied: tensorboard-plugin-wit>=1.6.0 in c:\\users\\shrav\\anaconda3\\lib\\site-packages (from tensorboard<2.11,>=2.10->tensorflow>=2.0.0->talos) (1.8.1)\n",
      "Requirement already satisfied: google-auth<3,>=1.6.3 in c:\\users\\shrav\\anaconda3\\lib\\site-packages (from tensorboard<2.11,>=2.10->tensorflow>=2.0.0->talos) (2.14.1)\n",
      "Requirement already satisfied: pickleshare in c:\\users\\shrav\\anaconda3\\lib\\site-packages (from IPython->astetik->talos) (0.7.5)\n",
      "Requirement already satisfied: matplotlib-inline in c:\\users\\shrav\\anaconda3\\lib\\site-packages (from IPython->astetik->talos) (0.1.6)\n",
      "Requirement already satisfied: jedi>=0.16 in c:\\users\\shrav\\anaconda3\\lib\\site-packages (from IPython->astetik->talos) (0.18.1)\n",
      "Requirement already satisfied: decorator in c:\\users\\shrav\\anaconda3\\lib\\site-packages (from IPython->astetik->talos) (5.1.1)\n",
      "Requirement already satisfied: traitlets>=4.2 in c:\\users\\shrav\\anaconda3\\lib\\site-packages (from IPython->astetik->talos) (5.1.1)\n",
      "Requirement already satisfied: prompt-toolkit!=3.0.0,!=3.0.1,<3.1.0,>=2.0.0 in c:\\users\\shrav\\anaconda3\\lib\\site-packages (from IPython->astetik->talos) (3.0.20)\n",
      "Requirement already satisfied: backcall in c:\\users\\shrav\\anaconda3\\lib\\site-packages (from IPython->astetik->talos) (0.2.0)\n",
      "Requirement already satisfied: pygments in c:\\users\\shrav\\anaconda3\\lib\\site-packages (from IPython->astetik->talos) (2.11.2)\n",
      "Requirement already satisfied: kiwisolver>=1.0.1 in c:\\users\\shrav\\anaconda3\\lib\\site-packages (from matplotlib->kerasplotlib->talos) (1.4.2)\n",
      "Requirement already satisfied: cycler>=0.10 in c:\\users\\shrav\\anaconda3\\lib\\site-packages (from matplotlib->kerasplotlib->talos) (0.11.0)\n",
      "Requirement already satisfied: fonttools>=4.22.0 in c:\\users\\shrav\\anaconda3\\lib\\site-packages (from matplotlib->kerasplotlib->talos) (4.25.0)\n",
      "Requirement already satisfied: pillow>=6.2.0 in c:\\users\\shrav\\anaconda3\\lib\\site-packages (from matplotlib->kerasplotlib->talos) (9.2.0)\n",
      "Requirement already satisfied: cachetools<6.0,>=2.0.0 in c:\\users\\shrav\\anaconda3\\lib\\site-packages (from google-auth<3,>=1.6.3->tensorboard<2.11,>=2.10->tensorflow>=2.0.0->talos) (5.2.0)\n",
      "Requirement already satisfied: pyasn1-modules>=0.2.1 in c:\\users\\shrav\\anaconda3\\lib\\site-packages (from google-auth<3,>=1.6.3->tensorboard<2.11,>=2.10->tensorflow>=2.0.0->talos) (0.2.8)\n",
      "Requirement already satisfied: rsa<5,>=3.1.4 in c:\\users\\shrav\\anaconda3\\lib\\site-packages (from google-auth<3,>=1.6.3->tensorboard<2.11,>=2.10->tensorflow>=2.0.0->talos) (4.9)\n",
      "Requirement already satisfied: requests-oauthlib>=0.7.0 in c:\\users\\shrav\\anaconda3\\lib\\site-packages (from google-auth-oauthlib<0.5,>=0.4.1->tensorboard<2.11,>=2.10->tensorflow>=2.0.0->talos) (1.3.1)\n",
      "Requirement already satisfied: parso<0.9.0,>=0.8.0 in c:\\users\\shrav\\anaconda3\\lib\\site-packages (from jedi>=0.16->IPython->astetik->talos) (0.8.3)\n",
      "Requirement already satisfied: wcwidth in c:\\users\\shrav\\anaconda3\\lib\\site-packages (from prompt-toolkit!=3.0.0,!=3.0.1,<3.1.0,>=2.0.0->IPython->astetik->talos) (0.2.5)\n",
      "Requirement already satisfied: pyasn1<0.5.0,>=0.4.6 in c:\\users\\shrav\\anaconda3\\lib\\site-packages (from pyasn1-modules>=0.2.1->google-auth<3,>=1.6.3->tensorboard<2.11,>=2.10->tensorflow>=2.0.0->talos) (0.4.8)\n",
      "Requirement already satisfied: oauthlib>=3.0.0 in c:\\users\\shrav\\anaconda3\\lib\\site-packages (from requests-oauthlib>=0.7.0->google-auth-oauthlib<0.5,>=0.4.1->tensorboard<2.11,>=2.10->tensorflow>=2.0.0->talos) (3.2.2)\n",
      "Requirement already satisfied: spacy in c:\\users\\shrav\\anaconda3\\lib\\site-packages (3.4.3)\n",
      "Requirement already satisfied: requests<3.0.0,>=2.13.0 in c:\\users\\shrav\\anaconda3\\lib\\site-packages (from spacy) (2.28.1)\n",
      "Requirement already satisfied: packaging>=20.0 in c:\\users\\shrav\\anaconda3\\lib\\site-packages (from spacy) (21.3)\n",
      "Requirement already satisfied: preshed<3.1.0,>=3.0.2 in c:\\users\\shrav\\anaconda3\\lib\\site-packages (from spacy) (3.0.8)\n",
      "Requirement already satisfied: murmurhash<1.1.0,>=0.28.0 in c:\\users\\shrav\\anaconda3\\lib\\site-packages (from spacy) (1.0.9)\n",
      "Requirement already satisfied: cymem<2.1.0,>=2.0.2 in c:\\users\\shrav\\anaconda3\\lib\\site-packages (from spacy) (2.0.7)\n",
      "Requirement already satisfied: tqdm<5.0.0,>=4.38.0 in c:\\users\\shrav\\anaconda3\\lib\\site-packages (from spacy) (4.64.1)\n",
      "Requirement already satisfied: wasabi<1.1.0,>=0.9.1 in c:\\users\\shrav\\anaconda3\\lib\\site-packages (from spacy) (0.10.1)\n",
      "Requirement already satisfied: thinc<8.2.0,>=8.1.0 in c:\\users\\shrav\\anaconda3\\lib\\site-packages (from spacy) (8.1.5)\n",
      "Requirement already satisfied: pathy>=0.3.5 in c:\\users\\shrav\\anaconda3\\lib\\site-packages (from spacy) (0.6.2)\n",
      "Requirement already satisfied: typer<0.8.0,>=0.3.0 in c:\\users\\shrav\\anaconda3\\lib\\site-packages (from spacy) (0.7.0)\n",
      "Requirement already satisfied: setuptools in c:\\users\\shrav\\anaconda3\\lib\\site-packages (from spacy) (63.4.1)\n",
      "Requirement already satisfied: langcodes<4.0.0,>=3.2.0 in c:\\users\\shrav\\anaconda3\\lib\\site-packages (from spacy) (3.3.0)\n",
      "Requirement already satisfied: srsly<3.0.0,>=2.4.3 in c:\\users\\shrav\\anaconda3\\lib\\site-packages (from spacy) (2.4.5)\n",
      "Requirement already satisfied: spacy-legacy<3.1.0,>=3.0.10 in c:\\users\\shrav\\anaconda3\\lib\\site-packages (from spacy) (3.0.10)\n",
      "Requirement already satisfied: jinja2 in c:\\users\\shrav\\anaconda3\\lib\\site-packages (from spacy) (2.11.3)\n",
      "Requirement already satisfied: pydantic!=1.8,!=1.8.1,<1.11.0,>=1.7.4 in c:\\users\\shrav\\anaconda3\\lib\\site-packages (from spacy) (1.10.2)\n",
      "Requirement already satisfied: spacy-loggers<2.0.0,>=1.0.0 in c:\\users\\shrav\\anaconda3\\lib\\site-packages (from spacy) (1.0.3)\n",
      "Requirement already satisfied: numpy>=1.15.0 in c:\\users\\shrav\\anaconda3\\lib\\site-packages (from spacy) (1.21.5)\n",
      "Requirement already satisfied: catalogue<2.1.0,>=2.0.6 in c:\\users\\shrav\\anaconda3\\lib\\site-packages (from spacy) (2.0.8)\n",
      "Requirement already satisfied: pyparsing!=3.0.5,>=2.0.2 in c:\\users\\shrav\\anaconda3\\lib\\site-packages (from packaging>=20.0->spacy) (3.0.9)\n",
      "Requirement already satisfied: smart-open<6.0.0,>=5.2.1 in c:\\users\\shrav\\anaconda3\\lib\\site-packages (from pathy>=0.3.5->spacy) (5.2.1)\n",
      "Requirement already satisfied: typing-extensions>=4.1.0 in c:\\users\\shrav\\anaconda3\\lib\\site-packages (from pydantic!=1.8,!=1.8.1,<1.11.0,>=1.7.4->spacy) (4.3.0)\n",
      "Requirement already satisfied: idna<4,>=2.5 in c:\\users\\shrav\\anaconda3\\lib\\site-packages (from requests<3.0.0,>=2.13.0->spacy) (3.3)\n",
      "Requirement already satisfied: certifi>=2017.4.17 in c:\\users\\shrav\\anaconda3\\lib\\site-packages (from requests<3.0.0,>=2.13.0->spacy) (2022.9.14)\n",
      "Requirement already satisfied: urllib3<1.27,>=1.21.1 in c:\\users\\shrav\\anaconda3\\lib\\site-packages (from requests<3.0.0,>=2.13.0->spacy) (1.26.11)\n",
      "Requirement already satisfied: charset-normalizer<3,>=2 in c:\\users\\shrav\\anaconda3\\lib\\site-packages (from requests<3.0.0,>=2.13.0->spacy) (2.0.4)\n",
      "Requirement already satisfied: confection<1.0.0,>=0.0.1 in c:\\users\\shrav\\anaconda3\\lib\\site-packages (from thinc<8.2.0,>=8.1.0->spacy) (0.0.3)\n",
      "Requirement already satisfied: blis<0.8.0,>=0.7.8 in c:\\users\\shrav\\anaconda3\\lib\\site-packages (from thinc<8.2.0,>=8.1.0->spacy) (0.7.9)\n",
      "Requirement already satisfied: colorama in c:\\users\\shrav\\anaconda3\\lib\\site-packages (from tqdm<5.0.0,>=4.38.0->spacy) (0.4.5)\n",
      "Requirement already satisfied: click<9.0.0,>=7.1.1 in c:\\users\\shrav\\anaconda3\\lib\\site-packages (from typer<0.8.0,>=0.3.0->spacy) (8.0.4)\n",
      "Requirement already satisfied: MarkupSafe>=0.23 in c:\\users\\shrav\\anaconda3\\lib\\site-packages (from jinja2->spacy) (2.0.1)\n"
     ]
    },
    {
     "name": "stderr",
     "output_type": "stream",
     "text": [
      "[nltk_data] Downloading collection 'all'\n",
      "[nltk_data]    | \n",
      "[nltk_data]    | Downloading package abc to\n",
      "[nltk_data]    |     C:\\Users\\shrav\\AppData\\Roaming\\nltk_data...\n",
      "[nltk_data]    |   Package abc is already up-to-date!\n",
      "[nltk_data]    | Downloading package alpino to\n",
      "[nltk_data]    |     C:\\Users\\shrav\\AppData\\Roaming\\nltk_data...\n",
      "[nltk_data]    |   Package alpino is already up-to-date!\n",
      "[nltk_data]    | Downloading package averaged_perceptron_tagger to\n",
      "[nltk_data]    |     C:\\Users\\shrav\\AppData\\Roaming\\nltk_data...\n",
      "[nltk_data]    |   Package averaged_perceptron_tagger is already up-\n",
      "[nltk_data]    |       to-date!\n",
      "[nltk_data]    | Downloading package averaged_perceptron_tagger_ru to\n",
      "[nltk_data]    |     C:\\Users\\shrav\\AppData\\Roaming\\nltk_data...\n",
      "[nltk_data]    |   Package averaged_perceptron_tagger_ru is already\n",
      "[nltk_data]    |       up-to-date!\n",
      "[nltk_data]    | Downloading package basque_grammars to\n",
      "[nltk_data]    |     C:\\Users\\shrav\\AppData\\Roaming\\nltk_data...\n",
      "[nltk_data]    |   Package basque_grammars is already up-to-date!\n",
      "[nltk_data]    | Downloading package biocreative_ppi to\n",
      "[nltk_data]    |     C:\\Users\\shrav\\AppData\\Roaming\\nltk_data...\n",
      "[nltk_data]    |   Package biocreative_ppi is already up-to-date!\n",
      "[nltk_data]    | Downloading package bllip_wsj_no_aux to\n",
      "[nltk_data]    |     C:\\Users\\shrav\\AppData\\Roaming\\nltk_data...\n",
      "[nltk_data]    |   Package bllip_wsj_no_aux is already up-to-date!\n",
      "[nltk_data]    | Downloading package book_grammars to\n",
      "[nltk_data]    |     C:\\Users\\shrav\\AppData\\Roaming\\nltk_data...\n",
      "[nltk_data]    |   Package book_grammars is already up-to-date!\n",
      "[nltk_data]    | Downloading package brown to\n",
      "[nltk_data]    |     C:\\Users\\shrav\\AppData\\Roaming\\nltk_data...\n",
      "[nltk_data]    |   Package brown is already up-to-date!\n",
      "[nltk_data]    | Downloading package brown_tei to\n",
      "[nltk_data]    |     C:\\Users\\shrav\\AppData\\Roaming\\nltk_data...\n",
      "[nltk_data]    |   Package brown_tei is already up-to-date!\n",
      "[nltk_data]    | Downloading package cess_cat to\n",
      "[nltk_data]    |     C:\\Users\\shrav\\AppData\\Roaming\\nltk_data...\n",
      "[nltk_data]    |   Package cess_cat is already up-to-date!\n",
      "[nltk_data]    | Downloading package cess_esp to\n",
      "[nltk_data]    |     C:\\Users\\shrav\\AppData\\Roaming\\nltk_data...\n",
      "[nltk_data]    |   Package cess_esp is already up-to-date!\n",
      "[nltk_data]    | Downloading package chat80 to\n",
      "[nltk_data]    |     C:\\Users\\shrav\\AppData\\Roaming\\nltk_data...\n",
      "[nltk_data]    |   Package chat80 is already up-to-date!\n",
      "[nltk_data]    | Downloading package city_database to\n",
      "[nltk_data]    |     C:\\Users\\shrav\\AppData\\Roaming\\nltk_data...\n",
      "[nltk_data]    |   Package city_database is already up-to-date!\n",
      "[nltk_data]    | Downloading package cmudict to\n",
      "[nltk_data]    |     C:\\Users\\shrav\\AppData\\Roaming\\nltk_data...\n",
      "[nltk_data]    |   Package cmudict is already up-to-date!\n",
      "[nltk_data]    | Downloading package comparative_sentences to\n",
      "[nltk_data]    |     C:\\Users\\shrav\\AppData\\Roaming\\nltk_data...\n",
      "[nltk_data]    |   Package comparative_sentences is already up-to-\n",
      "[nltk_data]    |       date!\n",
      "[nltk_data]    | Downloading package comtrans to\n",
      "[nltk_data]    |     C:\\Users\\shrav\\AppData\\Roaming\\nltk_data...\n",
      "[nltk_data]    |   Package comtrans is already up-to-date!\n",
      "[nltk_data]    | Downloading package conll2000 to\n",
      "[nltk_data]    |     C:\\Users\\shrav\\AppData\\Roaming\\nltk_data...\n",
      "[nltk_data]    |   Package conll2000 is already up-to-date!\n",
      "[nltk_data]    | Downloading package conll2002 to\n",
      "[nltk_data]    |     C:\\Users\\shrav\\AppData\\Roaming\\nltk_data...\n",
      "[nltk_data]    |   Package conll2002 is already up-to-date!\n",
      "[nltk_data]    | Downloading package conll2007 to\n",
      "[nltk_data]    |     C:\\Users\\shrav\\AppData\\Roaming\\nltk_data...\n",
      "[nltk_data]    |   Package conll2007 is already up-to-date!\n",
      "[nltk_data]    | Downloading package crubadan to\n",
      "[nltk_data]    |     C:\\Users\\shrav\\AppData\\Roaming\\nltk_data...\n",
      "[nltk_data]    |   Package crubadan is already up-to-date!\n",
      "[nltk_data]    | Downloading package dependency_treebank to\n",
      "[nltk_data]    |     C:\\Users\\shrav\\AppData\\Roaming\\nltk_data...\n",
      "[nltk_data]    |   Package dependency_treebank is already up-to-date!\n",
      "[nltk_data]    | Downloading package dolch to\n",
      "[nltk_data]    |     C:\\Users\\shrav\\AppData\\Roaming\\nltk_data...\n",
      "[nltk_data]    |   Package dolch is already up-to-date!\n",
      "[nltk_data]    | Downloading package europarl_raw to\n",
      "[nltk_data]    |     C:\\Users\\shrav\\AppData\\Roaming\\nltk_data...\n",
      "[nltk_data]    |   Package europarl_raw is already up-to-date!\n",
      "[nltk_data]    | Downloading package extended_omw to\n",
      "[nltk_data]    |     C:\\Users\\shrav\\AppData\\Roaming\\nltk_data...\n",
      "[nltk_data]    |   Package extended_omw is already up-to-date!\n",
      "[nltk_data]    | Downloading package floresta to\n",
      "[nltk_data]    |     C:\\Users\\shrav\\AppData\\Roaming\\nltk_data...\n",
      "[nltk_data]    |   Package floresta is already up-to-date!\n",
      "[nltk_data]    | Downloading package framenet_v15 to\n",
      "[nltk_data]    |     C:\\Users\\shrav\\AppData\\Roaming\\nltk_data...\n",
      "[nltk_data]    |   Package framenet_v15 is already up-to-date!\n",
      "[nltk_data]    | Downloading package framenet_v17 to\n",
      "[nltk_data]    |     C:\\Users\\shrav\\AppData\\Roaming\\nltk_data...\n",
      "[nltk_data]    |   Package framenet_v17 is already up-to-date!\n",
      "[nltk_data]    | Downloading package gazetteers to\n",
      "[nltk_data]    |     C:\\Users\\shrav\\AppData\\Roaming\\nltk_data...\n",
      "[nltk_data]    |   Package gazetteers is already up-to-date!\n",
      "[nltk_data]    | Downloading package genesis to\n",
      "[nltk_data]    |     C:\\Users\\shrav\\AppData\\Roaming\\nltk_data...\n",
      "[nltk_data]    |   Package genesis is already up-to-date!\n",
      "[nltk_data]    | Downloading package gutenberg to\n",
      "[nltk_data]    |     C:\\Users\\shrav\\AppData\\Roaming\\nltk_data...\n",
      "[nltk_data]    |   Package gutenberg is already up-to-date!\n",
      "[nltk_data]    | Downloading package ieer to\n",
      "[nltk_data]    |     C:\\Users\\shrav\\AppData\\Roaming\\nltk_data...\n",
      "[nltk_data]    |   Package ieer is already up-to-date!\n",
      "[nltk_data]    | Downloading package inaugural to\n",
      "[nltk_data]    |     C:\\Users\\shrav\\AppData\\Roaming\\nltk_data...\n",
      "[nltk_data]    |   Package inaugural is already up-to-date!\n",
      "[nltk_data]    | Downloading package indian to\n",
      "[nltk_data]    |     C:\\Users\\shrav\\AppData\\Roaming\\nltk_data...\n",
      "[nltk_data]    |   Package indian is already up-to-date!\n",
      "[nltk_data]    | Downloading package jeita to\n",
      "[nltk_data]    |     C:\\Users\\shrav\\AppData\\Roaming\\nltk_data...\n",
      "[nltk_data]    |   Package jeita is already up-to-date!\n",
      "[nltk_data]    | Downloading package kimmo to\n",
      "[nltk_data]    |     C:\\Users\\shrav\\AppData\\Roaming\\nltk_data...\n",
      "[nltk_data]    |   Package kimmo is already up-to-date!\n",
      "[nltk_data]    | Downloading package knbc to\n",
      "[nltk_data]    |     C:\\Users\\shrav\\AppData\\Roaming\\nltk_data...\n",
      "[nltk_data]    |   Package knbc is already up-to-date!\n",
      "[nltk_data]    | Downloading package large_grammars to\n",
      "[nltk_data]    |     C:\\Users\\shrav\\AppData\\Roaming\\nltk_data...\n",
      "[nltk_data]    |   Package large_grammars is already up-to-date!\n",
      "[nltk_data]    | Downloading package lin_thesaurus to\n",
      "[nltk_data]    |     C:\\Users\\shrav\\AppData\\Roaming\\nltk_data...\n",
      "[nltk_data]    |   Package lin_thesaurus is already up-to-date!\n",
      "[nltk_data]    | Downloading package mac_morpho to\n",
      "[nltk_data]    |     C:\\Users\\shrav\\AppData\\Roaming\\nltk_data...\n",
      "[nltk_data]    |   Package mac_morpho is already up-to-date!\n",
      "[nltk_data]    | Downloading package machado to\n",
      "[nltk_data]    |     C:\\Users\\shrav\\AppData\\Roaming\\nltk_data...\n",
      "[nltk_data]    |   Package machado is already up-to-date!\n",
      "[nltk_data]    | Downloading package masc_tagged to\n",
      "[nltk_data]    |     C:\\Users\\shrav\\AppData\\Roaming\\nltk_data...\n",
      "[nltk_data]    |   Package masc_tagged is already up-to-date!\n",
      "[nltk_data]    | Downloading package maxent_ne_chunker to\n",
      "[nltk_data]    |     C:\\Users\\shrav\\AppData\\Roaming\\nltk_data...\n",
      "[nltk_data]    |   Package maxent_ne_chunker is already up-to-date!\n",
      "[nltk_data]    | Downloading package maxent_treebank_pos_tagger to\n",
      "[nltk_data]    |     C:\\Users\\shrav\\AppData\\Roaming\\nltk_data...\n",
      "[nltk_data]    |   Package maxent_treebank_pos_tagger is already up-\n",
      "[nltk_data]    |       to-date!\n",
      "[nltk_data]    | Downloading package moses_sample to\n",
      "[nltk_data]    |     C:\\Users\\shrav\\AppData\\Roaming\\nltk_data...\n",
      "[nltk_data]    |   Package moses_sample is already up-to-date!\n",
      "[nltk_data]    | Downloading package movie_reviews to\n",
      "[nltk_data]    |     C:\\Users\\shrav\\AppData\\Roaming\\nltk_data...\n",
      "[nltk_data]    |   Package movie_reviews is already up-to-date!\n",
      "[nltk_data]    | Downloading package mte_teip5 to\n",
      "[nltk_data]    |     C:\\Users\\shrav\\AppData\\Roaming\\nltk_data...\n",
      "[nltk_data]    |   Package mte_teip5 is already up-to-date!\n",
      "[nltk_data]    | Downloading package mwa_ppdb to\n",
      "[nltk_data]    |     C:\\Users\\shrav\\AppData\\Roaming\\nltk_data...\n",
      "[nltk_data]    |   Package mwa_ppdb is already up-to-date!\n",
      "[nltk_data]    | Downloading package names to\n",
      "[nltk_data]    |     C:\\Users\\shrav\\AppData\\Roaming\\nltk_data...\n",
      "[nltk_data]    |   Package names is already up-to-date!\n",
      "[nltk_data]    | Downloading package nombank.1.0 to\n",
      "[nltk_data]    |     C:\\Users\\shrav\\AppData\\Roaming\\nltk_data...\n",
      "[nltk_data]    |   Package nombank.1.0 is already up-to-date!\n",
      "[nltk_data]    | Downloading package nonbreaking_prefixes to\n",
      "[nltk_data]    |     C:\\Users\\shrav\\AppData\\Roaming\\nltk_data...\n",
      "[nltk_data]    |   Package nonbreaking_prefixes is already up-to-date!\n",
      "[nltk_data]    | Downloading package nps_chat to\n",
      "[nltk_data]    |     C:\\Users\\shrav\\AppData\\Roaming\\nltk_data...\n",
      "[nltk_data]    |   Package nps_chat is already up-to-date!\n",
      "[nltk_data]    | Downloading package omw to\n",
      "[nltk_data]    |     C:\\Users\\shrav\\AppData\\Roaming\\nltk_data...\n",
      "[nltk_data]    |   Package omw is already up-to-date!\n",
      "[nltk_data]    | Downloading package omw-1.4 to\n",
      "[nltk_data]    |     C:\\Users\\shrav\\AppData\\Roaming\\nltk_data...\n",
      "[nltk_data]    |   Package omw-1.4 is already up-to-date!\n",
      "[nltk_data]    | Downloading package opinion_lexicon to\n",
      "[nltk_data]    |     C:\\Users\\shrav\\AppData\\Roaming\\nltk_data...\n",
      "[nltk_data]    |   Package opinion_lexicon is already up-to-date!\n",
      "[nltk_data]    | Downloading package panlex_swadesh to\n",
      "[nltk_data]    |     C:\\Users\\shrav\\AppData\\Roaming\\nltk_data...\n",
      "[nltk_data]    |   Package panlex_swadesh is already up-to-date!\n",
      "[nltk_data]    | Downloading package paradigms to\n",
      "[nltk_data]    |     C:\\Users\\shrav\\AppData\\Roaming\\nltk_data...\n",
      "[nltk_data]    |   Package paradigms is already up-to-date!\n",
      "[nltk_data]    | Downloading package pe08 to\n",
      "[nltk_data]    |     C:\\Users\\shrav\\AppData\\Roaming\\nltk_data...\n",
      "[nltk_data]    |   Package pe08 is already up-to-date!\n",
      "[nltk_data]    | Downloading package perluniprops to\n",
      "[nltk_data]    |     C:\\Users\\shrav\\AppData\\Roaming\\nltk_data...\n",
      "[nltk_data]    |   Package perluniprops is already up-to-date!\n",
      "[nltk_data]    | Downloading package pil to\n",
      "[nltk_data]    |     C:\\Users\\shrav\\AppData\\Roaming\\nltk_data...\n",
      "[nltk_data]    |   Package pil is already up-to-date!\n",
      "[nltk_data]    | Downloading package pl196x to\n",
      "[nltk_data]    |     C:\\Users\\shrav\\AppData\\Roaming\\nltk_data...\n",
      "[nltk_data]    |   Package pl196x is already up-to-date!\n",
      "[nltk_data]    | Downloading package porter_test to\n",
      "[nltk_data]    |     C:\\Users\\shrav\\AppData\\Roaming\\nltk_data...\n",
      "[nltk_data]    |   Package porter_test is already up-to-date!\n",
      "[nltk_data]    | Downloading package ppattach to\n",
      "[nltk_data]    |     C:\\Users\\shrav\\AppData\\Roaming\\nltk_data...\n",
      "[nltk_data]    |   Package ppattach is already up-to-date!\n",
      "[nltk_data]    | Downloading package problem_reports to\n",
      "[nltk_data]    |     C:\\Users\\shrav\\AppData\\Roaming\\nltk_data...\n",
      "[nltk_data]    |   Package problem_reports is already up-to-date!\n",
      "[nltk_data]    | Downloading package product_reviews_1 to\n",
      "[nltk_data]    |     C:\\Users\\shrav\\AppData\\Roaming\\nltk_data...\n",
      "[nltk_data]    |   Package product_reviews_1 is already up-to-date!\n",
      "[nltk_data]    | Downloading package product_reviews_2 to\n",
      "[nltk_data]    |     C:\\Users\\shrav\\AppData\\Roaming\\nltk_data...\n",
      "[nltk_data]    |   Package product_reviews_2 is already up-to-date!\n",
      "[nltk_data]    | Downloading package propbank to\n",
      "[nltk_data]    |     C:\\Users\\shrav\\AppData\\Roaming\\nltk_data...\n",
      "[nltk_data]    |   Package propbank is already up-to-date!\n",
      "[nltk_data]    | Downloading package pros_cons to\n",
      "[nltk_data]    |     C:\\Users\\shrav\\AppData\\Roaming\\nltk_data...\n",
      "[nltk_data]    |   Package pros_cons is already up-to-date!\n",
      "[nltk_data]    | Downloading package ptb to\n",
      "[nltk_data]    |     C:\\Users\\shrav\\AppData\\Roaming\\nltk_data...\n",
      "[nltk_data]    |   Package ptb is already up-to-date!\n",
      "[nltk_data]    | Downloading package punkt to\n",
      "[nltk_data]    |     C:\\Users\\shrav\\AppData\\Roaming\\nltk_data...\n",
      "[nltk_data]    |   Package punkt is already up-to-date!\n",
      "[nltk_data]    | Downloading package qc to\n",
      "[nltk_data]    |     C:\\Users\\shrav\\AppData\\Roaming\\nltk_data...\n",
      "[nltk_data]    |   Package qc is already up-to-date!\n",
      "[nltk_data]    | Downloading package reuters to\n",
      "[nltk_data]    |     C:\\Users\\shrav\\AppData\\Roaming\\nltk_data...\n",
      "[nltk_data]    |   Package reuters is already up-to-date!\n",
      "[nltk_data]    | Downloading package rslp to\n",
      "[nltk_data]    |     C:\\Users\\shrav\\AppData\\Roaming\\nltk_data...\n",
      "[nltk_data]    |   Package rslp is already up-to-date!\n",
      "[nltk_data]    | Downloading package rte to\n",
      "[nltk_data]    |     C:\\Users\\shrav\\AppData\\Roaming\\nltk_data...\n",
      "[nltk_data]    |   Package rte is already up-to-date!\n",
      "[nltk_data]    | Downloading package sample_grammars to\n",
      "[nltk_data]    |     C:\\Users\\shrav\\AppData\\Roaming\\nltk_data...\n",
      "[nltk_data]    |   Package sample_grammars is already up-to-date!\n",
      "[nltk_data]    | Downloading package semcor to\n",
      "[nltk_data]    |     C:\\Users\\shrav\\AppData\\Roaming\\nltk_data...\n",
      "[nltk_data]    |   Package semcor is already up-to-date!\n",
      "[nltk_data]    | Downloading package senseval to\n",
      "[nltk_data]    |     C:\\Users\\shrav\\AppData\\Roaming\\nltk_data...\n",
      "[nltk_data]    |   Package senseval is already up-to-date!\n",
      "[nltk_data]    | Downloading package sentence_polarity to\n",
      "[nltk_data]    |     C:\\Users\\shrav\\AppData\\Roaming\\nltk_data...\n",
      "[nltk_data]    |   Package sentence_polarity is already up-to-date!\n",
      "[nltk_data]    | Downloading package sentiwordnet to\n",
      "[nltk_data]    |     C:\\Users\\shrav\\AppData\\Roaming\\nltk_data...\n",
      "[nltk_data]    |   Package sentiwordnet is already up-to-date!\n",
      "[nltk_data]    | Downloading package shakespeare to\n",
      "[nltk_data]    |     C:\\Users\\shrav\\AppData\\Roaming\\nltk_data...\n",
      "[nltk_data]    |   Package shakespeare is already up-to-date!\n",
      "[nltk_data]    | Downloading package sinica_treebank to\n",
      "[nltk_data]    |     C:\\Users\\shrav\\AppData\\Roaming\\nltk_data...\n",
      "[nltk_data]    |   Package sinica_treebank is already up-to-date!\n",
      "[nltk_data]    | Downloading package smultron to\n",
      "[nltk_data]    |     C:\\Users\\shrav\\AppData\\Roaming\\nltk_data...\n",
      "[nltk_data]    |   Package smultron is already up-to-date!\n",
      "[nltk_data]    | Downloading package snowball_data to\n",
      "[nltk_data]    |     C:\\Users\\shrav\\AppData\\Roaming\\nltk_data...\n",
      "[nltk_data]    |   Package snowball_data is already up-to-date!\n",
      "[nltk_data]    | Downloading package spanish_grammars to\n",
      "[nltk_data]    |     C:\\Users\\shrav\\AppData\\Roaming\\nltk_data...\n",
      "[nltk_data]    |   Package spanish_grammars is already up-to-date!\n",
      "[nltk_data]    | Downloading package state_union to\n",
      "[nltk_data]    |     C:\\Users\\shrav\\AppData\\Roaming\\nltk_data...\n",
      "[nltk_data]    |   Package state_union is already up-to-date!\n",
      "[nltk_data]    | Downloading package stopwords to\n",
      "[nltk_data]    |     C:\\Users\\shrav\\AppData\\Roaming\\nltk_data...\n",
      "[nltk_data]    |   Package stopwords is already up-to-date!\n",
      "[nltk_data]    | Downloading package subjectivity to\n",
      "[nltk_data]    |     C:\\Users\\shrav\\AppData\\Roaming\\nltk_data...\n",
      "[nltk_data]    |   Package subjectivity is already up-to-date!\n",
      "[nltk_data]    | Downloading package swadesh to\n",
      "[nltk_data]    |     C:\\Users\\shrav\\AppData\\Roaming\\nltk_data...\n",
      "[nltk_data]    |   Package swadesh is already up-to-date!\n",
      "[nltk_data]    | Downloading package switchboard to\n",
      "[nltk_data]    |     C:\\Users\\shrav\\AppData\\Roaming\\nltk_data...\n",
      "[nltk_data]    |   Package switchboard is already up-to-date!\n",
      "[nltk_data]    | Downloading package tagsets to\n",
      "[nltk_data]    |     C:\\Users\\shrav\\AppData\\Roaming\\nltk_data...\n",
      "[nltk_data]    |   Package tagsets is already up-to-date!\n",
      "[nltk_data]    | Downloading package timit to\n",
      "[nltk_data]    |     C:\\Users\\shrav\\AppData\\Roaming\\nltk_data...\n",
      "[nltk_data]    |   Package timit is already up-to-date!\n",
      "[nltk_data]    | Downloading package toolbox to\n",
      "[nltk_data]    |     C:\\Users\\shrav\\AppData\\Roaming\\nltk_data...\n",
      "[nltk_data]    |   Package toolbox is already up-to-date!\n",
      "[nltk_data]    | Downloading package treebank to\n",
      "[nltk_data]    |     C:\\Users\\shrav\\AppData\\Roaming\\nltk_data...\n",
      "[nltk_data]    |   Package treebank is already up-to-date!\n",
      "[nltk_data]    | Downloading package twitter_samples to\n",
      "[nltk_data]    |     C:\\Users\\shrav\\AppData\\Roaming\\nltk_data...\n",
      "[nltk_data]    |   Package twitter_samples is already up-to-date!\n",
      "[nltk_data]    | Downloading package udhr to\n",
      "[nltk_data]    |     C:\\Users\\shrav\\AppData\\Roaming\\nltk_data...\n",
      "[nltk_data]    |   Package udhr is already up-to-date!\n",
      "[nltk_data]    | Downloading package udhr2 to\n",
      "[nltk_data]    |     C:\\Users\\shrav\\AppData\\Roaming\\nltk_data...\n",
      "[nltk_data]    |   Package udhr2 is already up-to-date!\n",
      "[nltk_data]    | Downloading package unicode_samples to\n",
      "[nltk_data]    |     C:\\Users\\shrav\\AppData\\Roaming\\nltk_data...\n",
      "[nltk_data]    |   Package unicode_samples is already up-to-date!\n",
      "[nltk_data]    | Downloading package universal_tagset to\n",
      "[nltk_data]    |     C:\\Users\\shrav\\AppData\\Roaming\\nltk_data...\n",
      "[nltk_data]    |   Package universal_tagset is already up-to-date!\n",
      "[nltk_data]    | Downloading package universal_treebanks_v20 to\n",
      "[nltk_data]    |     C:\\Users\\shrav\\AppData\\Roaming\\nltk_data...\n",
      "[nltk_data]    |   Package universal_treebanks_v20 is already up-to-\n",
      "[nltk_data]    |       date!\n",
      "[nltk_data]    | Downloading package vader_lexicon to\n",
      "[nltk_data]    |     C:\\Users\\shrav\\AppData\\Roaming\\nltk_data...\n",
      "[nltk_data]    |   Package vader_lexicon is already up-to-date!\n",
      "[nltk_data]    | Downloading package verbnet to\n",
      "[nltk_data]    |     C:\\Users\\shrav\\AppData\\Roaming\\nltk_data...\n",
      "[nltk_data]    |   Package verbnet is already up-to-date!\n",
      "[nltk_data]    | Downloading package verbnet3 to\n",
      "[nltk_data]    |     C:\\Users\\shrav\\AppData\\Roaming\\nltk_data...\n",
      "[nltk_data]    |   Package verbnet3 is already up-to-date!\n",
      "[nltk_data]    | Downloading package webtext to\n",
      "[nltk_data]    |     C:\\Users\\shrav\\AppData\\Roaming\\nltk_data...\n",
      "[nltk_data]    |   Package webtext is already up-to-date!\n",
      "[nltk_data]    | Downloading package wmt15_eval to\n",
      "[nltk_data]    |     C:\\Users\\shrav\\AppData\\Roaming\\nltk_data...\n",
      "[nltk_data]    |   Package wmt15_eval is already up-to-date!\n",
      "[nltk_data]    | Downloading package word2vec_sample to\n",
      "[nltk_data]    |     C:\\Users\\shrav\\AppData\\Roaming\\nltk_data...\n",
      "[nltk_data]    |   Package word2vec_sample is already up-to-date!\n",
      "[nltk_data]    | Downloading package wordnet to\n",
      "[nltk_data]    |     C:\\Users\\shrav\\AppData\\Roaming\\nltk_data...\n",
      "[nltk_data]    |   Package wordnet is already up-to-date!\n",
      "[nltk_data]    | Downloading package wordnet2021 to\n",
      "[nltk_data]    |     C:\\Users\\shrav\\AppData\\Roaming\\nltk_data...\n",
      "[nltk_data]    |   Package wordnet2021 is already up-to-date!\n",
      "[nltk_data]    | Downloading package wordnet31 to\n",
      "[nltk_data]    |     C:\\Users\\shrav\\AppData\\Roaming\\nltk_data...\n",
      "[nltk_data]    |   Package wordnet31 is already up-to-date!\n",
      "[nltk_data]    | Downloading package wordnet_ic to\n",
      "[nltk_data]    |     C:\\Users\\shrav\\AppData\\Roaming\\nltk_data...\n",
      "[nltk_data]    |   Package wordnet_ic is already up-to-date!\n",
      "[nltk_data]    | Downloading package words to\n",
      "[nltk_data]    |     C:\\Users\\shrav\\AppData\\Roaming\\nltk_data...\n",
      "[nltk_data]    |   Package words is already up-to-date!\n",
      "[nltk_data]    | Downloading package ycoe to\n",
      "[nltk_data]    |     C:\\Users\\shrav\\AppData\\Roaming\\nltk_data...\n",
      "[nltk_data]    |   Package ycoe is already up-to-date!\n",
      "[nltk_data]    | \n",
      "[nltk_data]  Done downloading collection all\n",
      "[nltk_data] Downloading package wordnet to\n",
      "[nltk_data]     C:\\Users\\shrav\\AppData\\Roaming\\nltk_data...\n",
      "[nltk_data]   Package wordnet is already up-to-date!\n",
      "[nltk_data] Downloading package punkt to\n",
      "[nltk_data]     C:\\Users\\shrav\\AppData\\Roaming\\nltk_data...\n",
      "[nltk_data]   Package punkt is already up-to-date!\n"
     ]
    }
   ],
   "source": [
    "from datetime import datetime\n",
    "import numpy as np, pandas as pd\n",
    "\n",
    "!pip install talos\n",
    "!pip install spacy\n",
    "\n",
    "import re\n",
    "import spacy\n",
    "from spacy.lang.en import English\n",
    "from spacy.lang.en.stop_words import STOP_WORDS\n",
    "from nltk.tokenize import word_tokenize\n",
    "import nltk\n",
    "nltk.download('all')\n",
    "from nltk.stem import WordNetLemmatizer\n",
    "nltk.download('wordnet')\n",
    "nltk.download(\"punkt\")\n",
    "import string\n",
    "from string import ascii_lowercase\n",
    "\n",
    "from tqdm import tqdm_notebook\n",
    "import itertools\n",
    "import io\n",
    "\n",
    "import matplotlib.pyplot as plt\n",
    "%matplotlib inline\n",
    "\n",
    "from functools import reduce\n",
    "from tensorflow import keras\n",
    "from keras.preprocessing.text import Tokenizer\n",
    "from tensorflow.keras.preprocessing.sequence import pad_sequences\n",
    "from keras.layers import Dense, Input, LSTM, Embedding, Dropout, Activation\n",
    "from keras.layers import Bidirectional, GlobalMaxPool1D\n",
    "from keras.models import Model\n",
    "from keras.models import Sequential\n",
    "from keras import initializers, regularizers, constraints, optimizers, layers\n",
    "import talos"
   ]
  },
  {
   "cell_type": "code",
   "execution_count": 2,
   "id": "41812ded",
   "metadata": {},
   "outputs": [
    {
     "name": "stdout",
     "output_type": "stream",
     "text": [
      "2022-11-29 16:37:40.604436\n"
     ]
    }
   ],
   "source": [
    "dt = datetime.now()\n",
    "print(dt)\n",
    "train_data = pd.read_csv('C:/Users/shrav/Desktop/Fall Sem/ML/project/Train/train.csv')"
   ]
  },
  {
   "cell_type": "code",
   "execution_count": 3,
   "id": "ce9beb04",
   "metadata": {},
   "outputs": [
    {
     "name": "stdout",
     "output_type": "stream",
     "text": [
      "2022-11-29 16:37:42.616644\n"
     ]
    },
    {
     "data": {
      "text/html": [
       "<div>\n",
       "<style scoped>\n",
       "    .dataframe tbody tr th:only-of-type {\n",
       "        vertical-align: middle;\n",
       "    }\n",
       "\n",
       "    .dataframe tbody tr th {\n",
       "        vertical-align: top;\n",
       "    }\n",
       "\n",
       "    .dataframe thead th {\n",
       "        text-align: right;\n",
       "    }\n",
       "</style>\n",
       "<table border=\"1\" class=\"dataframe\">\n",
       "  <thead>\n",
       "    <tr style=\"text-align: right;\">\n",
       "      <th></th>\n",
       "      <th>id</th>\n",
       "      <th>comment_text</th>\n",
       "    </tr>\n",
       "  </thead>\n",
       "  <tbody>\n",
       "    <tr>\n",
       "      <th>0</th>\n",
       "      <td>00001cee341fdb12</td>\n",
       "      <td>Yo bitch Ja Rule is more succesful then you'll...</td>\n",
       "    </tr>\n",
       "    <tr>\n",
       "      <th>1</th>\n",
       "      <td>0000247867823ef7</td>\n",
       "      <td>== From RfC == \\n\\n The title is fine as it is...</td>\n",
       "    </tr>\n",
       "    <tr>\n",
       "      <th>2</th>\n",
       "      <td>00013b17ad220c46</td>\n",
       "      <td>\" \\n\\n == Sources == \\n\\n * Zawe Ashton on Lap...</td>\n",
       "    </tr>\n",
       "    <tr>\n",
       "      <th>3</th>\n",
       "      <td>00017563c3f7919a</td>\n",
       "      <td>:If you have a look back at the source, the in...</td>\n",
       "    </tr>\n",
       "    <tr>\n",
       "      <th>4</th>\n",
       "      <td>00017695ad8997eb</td>\n",
       "      <td>I don't anonymously edit articles at all.</td>\n",
       "    </tr>\n",
       "  </tbody>\n",
       "</table>\n",
       "</div>"
      ],
      "text/plain": [
       "                 id                                       comment_text\n",
       "0  00001cee341fdb12  Yo bitch Ja Rule is more succesful then you'll...\n",
       "1  0000247867823ef7  == From RfC == \\n\\n The title is fine as it is...\n",
       "2  00013b17ad220c46  \" \\n\\n == Sources == \\n\\n * Zawe Ashton on Lap...\n",
       "3  00017563c3f7919a  :If you have a look back at the source, the in...\n",
       "4  00017695ad8997eb          I don't anonymously edit articles at all."
      ]
     },
     "execution_count": 3,
     "metadata": {},
     "output_type": "execute_result"
    }
   ],
   "source": [
    "dt = datetime.now()\n",
    "print(dt)\n",
    "\n",
    "test_data=pd.read_csv('C:/Users/shrav/Desktop/Fall Sem/ML/project/Train/test.csv')\n",
    "test_data.head()"
   ]
  },
  {
   "cell_type": "code",
   "execution_count": 4,
   "id": "2a771946",
   "metadata": {},
   "outputs": [
    {
     "data": {
      "text/plain": [
       "id               False\n",
       "comment_text     False\n",
       "toxic            False\n",
       "severe_toxic     False\n",
       "obscene          False\n",
       "threat           False\n",
       "insult           False\n",
       "identity_hate    False\n",
       "dtype: bool"
      ]
     },
     "execution_count": 4,
     "metadata": {},
     "output_type": "execute_result"
    }
   ],
   "source": [
    "train_data.isnull().any()"
   ]
  },
  {
   "cell_type": "code",
   "execution_count": 5,
   "id": "7cbca6da",
   "metadata": {},
   "outputs": [
    {
     "data": {
      "text/plain": [
       "id              False\n",
       "comment_text    False\n",
       "dtype: bool"
      ]
     },
     "execution_count": 5,
     "metadata": {},
     "output_type": "execute_result"
    }
   ],
   "source": [
    "test_data.isnull().any()"
   ]
  },
  {
   "cell_type": "code",
   "execution_count": 6,
   "id": "ec13970e",
   "metadata": {},
   "outputs": [],
   "source": [
    "labels = ['toxic', 'severe_toxic', 'obscene', 'threat', 'insult', 'identity_hate']\n",
    "y = train_data[labels].values"
   ]
  },
  {
   "cell_type": "code",
   "execution_count": 7,
   "id": "19e1e8c3",
   "metadata": {},
   "outputs": [],
   "source": [
    "Re_words = {\n",
    "    ' american ':\n",
    "        [\n",
    "            'amerikan'\n",
    "        ],\n",
    "\n",
    "    ' adolf ':\n",
    "        [\n",
    "            'adolf'\n",
    "        ],\n",
    "\n",
    "\n",
    "    ' hitler ':\n",
    "        [\n",
    "            'hitler'\n",
    "        ],\n",
    "\n",
    "    ' fuck':\n",
    "        [\n",
    "            '(f)(u|[^a-z0-9 ])(c|[^a-z0-9 ])(k|[^a-z0-9 ])([^ ])*',\n",
    "            '(f)([^a-z]*)(u)([^a-z]*)(c)([^a-z]*)(k)',\n",
    "            ' f[!@#\\$%\\^\\&\\*]*u[!@#\\$%\\^&\\*]*k', 'f u u c',\n",
    "            '(f)(c|[^a-z ])(u|[^a-z ])(k)', r'f\\*',\n",
    "            'feck ', ' fux ', 'f\\*\\*', 'f**k','fu*k',\n",
    "            'f\\-ing', 'f\\.u\\.', 'f###', ' fu ', 'f@ck', 'f u c k', 'f uck', 'f ck'\n",
    "        ],\n",
    "\n",
    "    ' ass ':\n",
    "        [\n",
    "            '[^a-z]ass ', '[^a-z]azz ', 'arrse', ' arse ', '@\\$\\$',\n",
    "            '[^a-z]anus', ' a\\*s\\*s', '[^a-z]ass[^a-z ]',\n",
    "            'a[@#\\$%\\^&\\*][@#\\$%\\^&\\*]', '[^a-z]anal ', 'a s s','a55', '@$$'\n",
    "        ],\n",
    "\n",
    "    ' ass hole ':\n",
    "        [\n",
    "            ' a[s|z]*wipe', 'a[s|z]*[w]*h[o|0]+[l]*e', '@\\$\\$hole', 'a**hole'\n",
    "        ],\n",
    "\n",
    "    ' bitch ':\n",
    "        [\n",
    "            'b[w]*i[t]*ch', 'b!tch',\n",
    "            'bi\\+ch', 'b!\\+ch', '(b)([^a-z]*)(i)([^a-z]*)(t)([^a-z]*)(c)([^a-z]*)(h)',\n",
    "            'biatch', 'bi\\*\\*h', 'bytch', 'b i t c h', 'b!tch', 'bi+ch', 'l3itch'\n",
    "        ],\n",
    "\n",
    "    ' bastard ':\n",
    "        [\n",
    "            'ba[s|z]+t[e|a]+rd'\n",
    "        ],\n",
    "\n",
    "    ' trans gender':\n",
    "        [\n",
    "            'transgender'\n",
    "        ],\n",
    "\n",
    "    ' gay ':\n",
    "        [\n",
    "            'gay'\n",
    "        ],\n",
    "\n",
    "    ' cock ':\n",
    "        [\n",
    "            '[^a-z]cock', 'c0ck', '[^a-z]cok ', 'c0k', '[^a-z]cok[^aeiou]', ' cawk',\n",
    "            '(c)([^a-z ])(o)([^a-z ]*)(c)([^a-z ]*)(k)', 'c o c k'\n",
    "        ],\n",
    "\n",
    "    ' dick ':\n",
    "        [\n",
    "            ' dick[^aeiou]', 'deek', 'd i c k', 'dik'\n",
    "        ],\n",
    "\n",
    "    ' suck ':\n",
    "        [\n",
    "            'sucker', '(s)([^a-z ]*)(u)([^a-z ]*)(c)([^a-z ]*)(k)', 'sucks', '5uck', 's u c k'\n",
    "        ],\n",
    "\n",
    "    ' cunt ':\n",
    "        [\n",
    "            'cunt', 'c u n t'\n",
    "        ],\n",
    "\n",
    "    ' bull shit ':\n",
    "        [\n",
    "            'bullsh\\*t', 'bull\\$hit'\n",
    "        ],\n",
    "\n",
    "    ' homo sex ual':\n",
    "        [\n",
    "            'homosexual'\n",
    "        ],\n",
    "\n",
    "    ' jerk ':\n",
    "        [\n",
    "            'jerk'\n",
    "        ],\n",
    "\n",
    "    ' idiot ':\n",
    "        [\n",
    "            'i[d]+io[t]+', '(i)([^a-z ]*)(d)([^a-z ]*)(i)([^a-z ]*)(o)([^a-z ]*)(t)', 'idiots'\n",
    "                                                                                      'i d i o t'\n",
    "        ],\n",
    "\n",
    "    ' dumb ':\n",
    "        [\n",
    "            '(d)([^a-z ]*)(u)([^a-z ]*)(m)([^a-z ]*)(b)'\n",
    "        ],\n",
    "\n",
    "    ' shit ':\n",
    "        [\n",
    "            'shitty', '(s)([^a-z ]*)(h)([^a-z ]*)(i)([^a-z ]*)(t)', 'shite', '\\$hit', 's h i t', '$h1t'\n",
    "        ],\n",
    "\n",
    "    ' shit hole ':\n",
    "        [\n",
    "            'shythole'\n",
    "        ],\n",
    "\n",
    "    ' retard ':\n",
    "        [\n",
    "            'returd', 'retad', 'retard', 'wiktard', 'wikitud'\n",
    "        ],\n",
    "\n",
    "    ' rape ':\n",
    "        [\n",
    "            ' raped'\n",
    "        ],\n",
    "\n",
    "    ' dumb ass':\n",
    "        [\n",
    "            'dumbass', 'dubass'\n",
    "        ],\n",
    "\n",
    "    ' ass head':\n",
    "        [\n",
    "            'butthead'\n",
    "        ],\n",
    "\n",
    "    ' sex ':\n",
    "        [\n",
    "            'sexy', 's3x', 'sexuality'\n",
    "        ],\n",
    "\n",
    "\n",
    "    ' nigger ':\n",
    "        [\n",
    "            'nigger', 'ni[g]+a', ' nigr ', 'negrito', 'niguh', 'n3gr', 'n i g g e r'\n",
    "        ],\n",
    "\n",
    "    ' shut the fuck up':\n",
    "        [\n",
    "            'stfu', 'st*u'\n",
    "        ],\n",
    "\n",
    "    ' pussy ':\n",
    "        [\n",
    "            'pussy[^c]', 'pusy', 'pussi[^l]', 'pusses', 'p*ssy'\n",
    "        ],\n",
    "\n",
    "    ' faggot ':\n",
    "        [\n",
    "            'faggot', ' fa[g]+[s]*[^a-z ]', 'fagot', 'f a g g o t', 'faggit',\n",
    "            '(f)([^a-z ]*)(a)([^a-z ]*)([g]+)([^a-z ]*)(o)([^a-z ]*)(t)', 'fau[g]+ot', 'fae[g]+ot',\n",
    "        ],\n",
    "\n",
    "    ' mother fucker':\n",
    "        [\n",
    "            ' motha ', ' motha f', ' mother f', 'motherucker',\n",
    "        ],\n",
    "\n",
    "    ' whore ':\n",
    "        [\n",
    "            'wh\\*\\*\\*', 'w h o r e'\n",
    "        ],\n",
    "    ' fucking ':\n",
    "        [\n",
    "            'f*$%-ing'\n",
    "        ],\n",
    "}\n"
   ]
  },
  {
   "cell_type": "code",
   "execution_count": 8,
   "id": "f25cfb4e",
   "metadata": {},
   "outputs": [],
   "source": [
    "def text_cleaning(words,delete_repeated=True, delete_word_pat=True, is_lower=True):\n",
    "\n",
    "  if is_lower:\n",
    "    words=words.lower()\n",
    "    \n",
    "  if delete_word_pat:\n",
    "    for target, patterns in Re_words.items():\n",
    "      for pat in patterns:\n",
    "        words=str(words).replace(pat, target)\n",
    "\n",
    "  if delete_repeated:\n",
    "    words = re.sub(r'(.)\\1{2,}', r'\\1', words) \n",
    "\n",
    "  words = str(words).replace(\"\\n\", \" \")\n",
    "  words = re.sub(r'[^\\w\\s]',' ',words)\n",
    "  words = re.sub('[0-9]',\"\",words)\n",
    "  words = re.sub(\" +\", \" \", words)\n",
    "  words = re.sub(\"([^\\x00-\\x7F])+\",\" \",words)\n",
    "  return words "
   ]
  },
  {
   "cell_type": "code",
   "execution_count": 9,
   "id": "bf1610b3",
   "metadata": {},
   "outputs": [],
   "source": [
    "train_data['comment_text']=train_data['comment_text'].apply(lambda x: text_cleaning(x))"
   ]
  },
  {
   "cell_type": "code",
   "execution_count": 10,
   "id": "bbf2d762",
   "metadata": {},
   "outputs": [],
   "source": [
    "test_data['comment_text']=test_data['comment_text'].apply(lambda x: text_cleaning(x))"
   ]
  },
  {
   "cell_type": "code",
   "execution_count": 11,
   "id": "2fdac96d",
   "metadata": {},
   "outputs": [],
   "source": [
    "train_comments=train_data['comment_text']\n",
    "test_comments=test_data['comment_text']"
   ]
  },
  {
   "cell_type": "code",
   "execution_count": 12,
   "id": "da181dd7",
   "metadata": {},
   "outputs": [],
   "source": [
    "train_comments=list(train_comments)\n",
    "test_comments=list(test_comments)"
   ]
  },
  {
   "cell_type": "code",
   "execution_count": 13,
   "id": "03bbcd99",
   "metadata": {},
   "outputs": [],
   "source": [
    "wordnet = WordNetLemmatizer()\n",
    "\n",
    "def lemmatizer(words, lemmatization=True):\n",
    "  op=\"\"\n",
    "  if lemmatization:\n",
    "    words=words.split(\" \")\n",
    "    for word in words:\n",
    "       word1 = wordnet.lemmatize(word, pos = \"n\")\n",
    "       word2 = wordnet.lemmatize(word1, pos = \"v\")\n",
    "       word3 = wordnet.lemmatize(word2, pos = \"a\")\n",
    "       word4 = wordnet.lemmatize(word3, pos = \"r\")\n",
    "       op=op + \" \" + word4\n",
    "  else:\n",
    "    op=words\n",
    "  \n",
    "  return str(op.strip()) "
   ]
  },
  {
   "cell_type": "code",
   "execution_count": 14,
   "id": "0018c343",
   "metadata": {},
   "outputs": [
    {
     "data": {
      "application/vnd.jupyter.widget-view+json": {
       "model_id": "4be7c4a15cb04255b334b68cd45d8f9c",
       "version_major": 2,
       "version_minor": 0
      },
      "text/plain": [
       "  0%|          | 0/159571 [00:00<?, ?it/s]"
      ]
     },
     "metadata": {},
     "output_type": "display_data"
    }
   ],
   "source": [
    "converted_trained_data= [] \n",
    "\n",
    "for line in tqdm_notebook(train_comments, total=159571): \n",
    "    converted_trained_data.append(lemmatizer(line))\n"
   ]
  },
  {
   "cell_type": "code",
   "execution_count": 15,
   "id": "da88865b",
   "metadata": {},
   "outputs": [
    {
     "data": {
      "application/vnd.jupyter.widget-view+json": {
       "model_id": "b5811fc7959a42dca3ffb92bfc9c6cc1",
       "version_major": 2,
       "version_minor": 0
      },
      "text/plain": [
       "  0%|          | 0/153164 [00:00<?, ?it/s]"
      ]
     },
     "metadata": {},
     "output_type": "display_data"
    }
   ],
   "source": [
    "converted_tested_data = [] \n",
    "\n",
    "for line in tqdm_notebook(test_comments, total=len(test_comments)): \n",
    "    converted_tested_data.append(lemmatizer(line))\n"
   ]
  },
  {
   "cell_type": "code",
   "execution_count": 16,
   "id": "9bde7276",
   "metadata": {},
   "outputs": [],
   "source": [
    "list_of_stopwords=STOP_WORDS\n",
    "\n",
    "def processing_Strings():\n",
    "    for size in itertools.count(1):\n",
    "        for s in itertools.product(ascii_lowercase, repeat=size):\n",
    "            yield \"\".join(s)\n",
    "\n",
    "list_of_texts=[]\n",
    "for s in processing_Strings():\n",
    "    list_of_texts.append(s)\n",
    "    if s == 'zz':\n",
    "        break"
   ]
  },
  {
   "cell_type": "code",
   "execution_count": 17,
   "id": "b1bd9c4d",
   "metadata": {},
   "outputs": [],
   "source": [
    "list_of_texts.remove('i')\n",
    "list_of_texts.remove('a')\n",
    "list_of_texts.remove('am')\n",
    "list_of_texts.remove('an')\n",
    "list_of_texts.remove('as')\n",
    "list_of_texts.remove('at')\n",
    "list_of_texts.remove('be')\n",
    "list_of_texts.remove('by')\n",
    "list_of_texts.remove('do')\n",
    "list_of_texts.remove('go')\n",
    "list_of_texts.remove('he')\n",
    "list_of_texts.remove('hi')\n",
    "list_of_texts.remove('if')\n",
    "list_of_texts.remove('is')\n",
    "list_of_texts.remove('in')\n",
    "list_of_texts.remove('me')\n",
    "list_of_texts.remove('my')\n",
    "list_of_texts.remove('no')\n",
    "list_of_texts.remove('of')\n",
    "list_of_texts.remove('on')\n",
    "list_of_texts.remove('or')\n",
    "list_of_texts.remove('ok')\n",
    "list_of_texts.remove('so')\n",
    "list_of_texts.remove('to')\n",
    "list_of_texts.remove('up')\n",
    "list_of_texts.remove('us')\n",
    "list_of_texts.remove('we')"
   ]
  },
  {
   "cell_type": "code",
   "execution_count": 18,
   "id": "ad763276",
   "metadata": {},
   "outputs": [
    {
     "name": "stdout",
     "output_type": "stream",
     "text": [
      "These words added to stopwords\n"
     ]
    }
   ],
   "source": [
    "for letter in list_of_texts:\n",
    "    list_of_stopwords.add(letter)\n",
    "print(\"These words added to stopwords\")"
   ]
  },
  {
   "cell_type": "code",
   "execution_count": 19,
   "id": "56c767a3",
   "metadata": {},
   "outputs": [
    {
     "data": {
      "application/vnd.jupyter.widget-view+json": {
       "model_id": "025d257c39f94ed4aab78f8c599f8543",
       "version_major": 2,
       "version_minor": 0
      },
      "text/plain": [
       "  0%|          | 0/159571 [00:00<?, ?it/s]"
      ]
     },
     "metadata": {},
     "output_type": "display_data"
    }
   ],
   "source": [
    "def find_stopwords(text, find_stopword=True):\n",
    "  op=\"\"\n",
    "  if find_stopword:\n",
    "    text=text.split(\" \")\n",
    "    for word in text:\n",
    "      if not word in list_of_stopwords:\n",
    "        op=op+\" \"+word \n",
    "  else:\n",
    "    op=text\n",
    "\n",
    "  return str(op.strip())  \n",
    "\n",
    "stop_words = [] \n",
    "\n",
    "for line in tqdm_notebook(converted_trained_data, total=159571): \n",
    "    stop_words.append(find_stopwords(line))"
   ]
  },
  {
   "cell_type": "code",
   "execution_count": 20,
   "id": "d49c12ea",
   "metadata": {},
   "outputs": [],
   "source": [
    "def combine_strings1(stopword):\n",
    "  string1=\"\"\n",
    "  for item in range(39893):\n",
    "    string1=string1+\" \"+stopword[item]\n",
    "  return string1\n",
    "\n",
    "def combine_strings2(stopword):\n",
    "  string2=\"\"\n",
    "  for item in range(39893,79785):\n",
    "    string2=string2+\" \"+stopword[item]\n",
    "  return string2\n",
    "\n",
    "def combine_strings3(stopword):\n",
    "  string3=\"\"\n",
    "  for item in range(79785,119678):\n",
    "    string3=string3+\" \"+stopword[item]\n",
    "  return string3\n",
    "\n",
    "def combine_strings4(stopword):\n",
    "  string4=\"\"\n",
    "  for item in range(119678,159571):\n",
    "    string4=string4+\" \"+stopword[item]\n",
    "  return string4"
   ]
  },
  {
   "cell_type": "code",
   "execution_count": 21,
   "id": "1adc01a2",
   "metadata": {},
   "outputs": [],
   "source": [
    "final_strings1=combine_strings1(stop_words)\n",
    "final_strings2=combine_strings2(stop_words)\n",
    "final_strings3=combine_strings3(stop_words)\n",
    "final_strings4=combine_strings4(stop_words)"
   ]
  },
  {
   "cell_type": "code",
   "execution_count": 22,
   "id": "4a408d4f",
   "metadata": {},
   "outputs": [],
   "source": [
    "def string_words(str):\n",
    "    add = dict()\n",
    "    texts = str.split()\n",
    "\n",
    "    for word in texts:\n",
    "        if word in add:\n",
    "            add[word] += 1\n",
    "        else:\n",
    "            add[word] = 1\n",
    "\n",
    "    return add"
   ]
  },
  {
   "cell_type": "code",
   "execution_count": 23,
   "id": "97f90c72",
   "metadata": {},
   "outputs": [],
   "source": [
    "string_dict1=string_words(final_strings1)\n",
    "string_dict2=string_words(final_strings2)\n",
    "string_dict3=string_words(final_strings3)\n",
    "string_dict4=string_words(final_strings4)"
   ]
  },
  {
   "cell_type": "code",
   "execution_count": 24,
   "id": "76705719",
   "metadata": {},
   "outputs": [],
   "source": [
    "total_string_dict1 = pd.DataFrame(list(string_dict1.items()),columns = ['Word','Count'])\n",
    "total_string_dict2 = pd.DataFrame(list(string_dict2.items()),columns = ['Word','Count'])\n",
    "total_string_dict3 = pd.DataFrame(list(string_dict3.items()),columns = ['Word','Count'])\n",
    "total_string_dict4 = pd.DataFrame(list(string_dict4.items()),columns = ['Word','Count'])"
   ]
  },
  {
   "cell_type": "code",
   "execution_count": 25,
   "id": "da084c86",
   "metadata": {},
   "outputs": [],
   "source": [
    "top50_stop_words1=total_string_dict1.sort_values(by=['Count'],ascending=False).head(50)\n",
    "top50_stop_words2=total_string_dict2.sort_values(by=['Count'],ascending=False).head(50)\n",
    "top50_stop_words3=total_string_dict3.sort_values(by=['Count'],ascending=False).head(50)\n",
    "top50_stop_words4=total_string_dict4.sort_values(by=['Count'],ascending=False).head(50)"
   ]
  },
  {
   "cell_type": "code",
   "execution_count": 26,
   "id": "1b024fb6",
   "metadata": {},
   "outputs": [],
   "source": [
    "common_stop_words=list(reduce(set.intersection,map(set,[top50_stop_words1.Word,top50_stop_words2.Word,top50_stop_words3.Word,top50_stop_words4.Word])))"
   ]
  },
  {
   "cell_type": "code",
   "execution_count": 27,
   "id": "df5fcead",
   "metadata": {},
   "outputs": [],
   "source": [
    "stop_words=common_stop_words"
   ]
  },
  {
   "cell_type": "code",
   "execution_count": 28,
   "id": "8180748f",
   "metadata": {},
   "outputs": [
    {
     "name": "stdout",
     "output_type": "stream",
     "text": [
      "we have successfully added the common stop words into list of stopwords!!\n"
     ]
    }
   ],
   "source": [
    "for word in stop_words:\n",
    "    list_of_stopwords.add(word)\n",
    "print(\"we have successfully added the common stop words into list of stopwords!!\")"
   ]
  },
  {
   "cell_type": "code",
   "execution_count": 29,
   "id": "47077848",
   "metadata": {},
   "outputs": [],
   "source": [
    "def delete_stoword_data(words, delete=True):\n",
    "  op = \"\"\n",
    "  if delete:\n",
    "    words=words.split(\" \")\n",
    "    for word in words:\n",
    "      if word not in list_of_stopwords:\n",
    "        op=op + \" \" + word\n",
    "  else :\n",
    "    op=words\n",
    "\n",
    "  return str(op.strip())      "
   ]
  },
  {
   "cell_type": "code",
   "execution_count": 30,
   "id": "5fabcaca",
   "metadata": {},
   "outputs": [
    {
     "data": {
      "application/vnd.jupyter.widget-view+json": {
       "model_id": "4c7f5a2ce8384bd4aa17aa672413391f",
       "version_major": 2,
       "version_minor": 0
      },
      "text/plain": [
       "  0%|          | 0/159571 [00:00<?, ?it/s]"
      ]
     },
     "metadata": {},
     "output_type": "display_data"
    }
   ],
   "source": [
    "preprocessed_data = [] \n",
    "\n",
    "for line in tqdm_notebook(converted_trained_data, total=159571): \n",
    "    preprocessed_data.append(delete_stoword_data(line))"
   ]
  },
  {
   "cell_type": "code",
   "execution_count": 31,
   "id": "8da696d2",
   "metadata": {},
   "outputs": [
    {
     "data": {
      "text/plain": [
       "'agree graemel intention revert nazi protect report revert rule notice board post report revert nazi graemel revert nazi unacceptable site admins feel unjustly revert hour period report revert noticeboard'"
      ]
     },
     "execution_count": 31,
     "metadata": {},
     "output_type": "execute_result"
    }
   ],
   "source": [
    "preprocessed_data[152458]"
   ]
  },
  {
   "cell_type": "code",
   "execution_count": 32,
   "id": "639c6da2",
   "metadata": {},
   "outputs": [
    {
     "data": {
      "application/vnd.jupyter.widget-view+json": {
       "model_id": "671a8559983845a2802170a74fd8b793",
       "version_major": 2,
       "version_minor": 0
      },
      "text/plain": [
       "  0%|          | 0/153164 [00:00<?, ?it/s]"
      ]
     },
     "metadata": {},
     "output_type": "display_data"
    }
   ],
   "source": [
    "preprocessed_data2 = [] \n",
    "\n",
    "for line in tqdm_notebook(converted_tested_data, total=153164): \n",
    "    preprocessed_data2.append(delete_stoword_data(line))"
   ]
  },
  {
   "cell_type": "code",
   "execution_count": 33,
   "id": "ee8283ca",
   "metadata": {},
   "outputs": [],
   "source": [
    "data_length_max=100000      \n",
    "total_pad = 200          \n",
    "split_data = 0.2      \n",
    "Pre_trained_length = 300"
   ]
  },
  {
   "cell_type": "code",
   "execution_count": 34,
   "id": "6610aff6",
   "metadata": {},
   "outputs": [],
   "source": [
    "word_list = Tokenizer(num_words=data_length_max)\n",
    "word_list.fit_on_texts(list(preprocessed_data))\n",
    "trained_words = word_list.texts_to_sequences(preprocessed_data)\n",
    "tested_words = word_list.texts_to_sequences(preprocessed_data2)"
   ]
  },
  {
   "cell_type": "code",
   "execution_count": 35,
   "id": "f5383b81",
   "metadata": {},
   "outputs": [
    {
     "name": "stdout",
     "output_type": "stream",
     "text": [
      "Words in Vocabulary:  148917\n"
     ]
    }
   ],
   "source": [
    "word_index=word_list.word_index\n",
    "print(\"Words in Vocabulary: \",len(word_index))"
   ]
  },
  {
   "cell_type": "code",
   "execution_count": 36,
   "id": "f1caf08f",
   "metadata": {},
   "outputs": [],
   "source": [
    "token_data_train=pad_sequences(trained_words, maxlen=total_pad, padding = 'post')\n",
    "token_data_test=pad_sequences(tested_words, maxlen=total_pad, padding = 'post')"
   ]
  },
  {
   "cell_type": "code",
   "execution_count": 37,
   "id": "07c40348",
   "metadata": {},
   "outputs": [
    {
     "name": "stdout",
     "output_type": "stream",
     "text": [
      "Tokenized sentences: \n",
      " [   93   555 32193   216   169 32193   216    67   556    93   343   555\n",
      "  1059    93   315  5335    93    96   364   246   343   555  1319    93\n",
      "   364     9    93   555   169    93   149    23    61   556    93   555\n",
      "   465    82  1064   380  1050  2379   466    13    93   169   384   343\n",
      "   232   169   219   127    86     6   149    54   234  4519 32193   216\n",
      "   169 32193   216    67   148   364   289    45   556    11    21    54\n",
      "   400  1528    11   148   556  1246    54  1616   111   111  4650   111\n",
      "    71    21   542  1233    54  1316    95   111  1555    54  1112   484\n",
      "    54   411     8   148    45    11   145  2185   426     8   292  1507\n",
      "    47   149   213   127    93     8     8    54     8    93    54     8\n",
      "    54     8   169   148    23    61   556     8   148   169    57   839\n",
      "  3104   232     8   219   127    86    54   101    44   411    93   334\n",
      "     6   149    54   234     0     0     0     0     0     0     0     0\n",
      "     0     0     0     0     0     0     0     0     0     0     0     0\n",
      "     0     0     0     0     0     0     0     0     0     0     0     0\n",
      "     0     0     0     0     0     0     0     0     0     0     0     0\n",
      "     0     0     0     0     0     0     0     0]\n"
     ]
    }
   ],
   "source": [
    "print('Tokenized sentences: \\n', token_data_train[10])"
   ]
  },
  {
   "cell_type": "code",
   "execution_count": 38,
   "id": "fbf0d16a",
   "metadata": {},
   "outputs": [],
   "source": [
    "index = np.arange(token_data_train.shape[0])\n",
    "np.random.shuffle(index)"
   ]
  },
  {
   "cell_type": "code",
   "execution_count": 39,
   "id": "646d6ad8",
   "metadata": {},
   "outputs": [],
   "source": [
    "token_data_train = token_data_train[index]\n",
    "labels = y[index]"
   ]
  },
  {
   "cell_type": "code",
   "execution_count": 40,
   "id": "77823c19",
   "metadata": {},
   "outputs": [],
   "source": [
    "validated_samples = int(split_data*token_data_train.shape[0])\n",
    "trained_tokens1 = token_data_train[: -validated_samples]\n",
    "trained_tokens2 = labels[: -validated_samples]\n",
    "x_val = token_data_train[-validated_samples: ]\n",
    "y_val = labels[-validated_samples: ]"
   ]
  },
  {
   "cell_type": "code",
   "execution_count": 41,
   "id": "34ed54cd",
   "metadata": {},
   "outputs": [],
   "source": [
    "Pre_trained_data = {}\n",
    "f = open('C:/Users/shrav/Desktop/Fall Sem/ML/project/Train/wiki-news-300d-1M.vec', encoding='utf8')\n",
    "for line in f:\n",
    "    values = line.split()\n",
    "    word = values[0]\n",
    "    Pre_trained_data[word] = np.asarray(values[1:], dtype='float32')\n",
    "f.close()"
   ]
  },
  {
   "cell_type": "code",
   "execution_count": 42,
   "id": "d505bf87",
   "metadata": {},
   "outputs": [
    {
     "name": "stdout",
     "output_type": "stream",
     "text": [
      " Completed!\n"
     ]
    }
   ],
   "source": [
    "Pre_trained_data2 = np.random.random((len(word_index) + 1, Pre_trained_length))\n",
    "for word, i in word_index.items():\n",
    "    text_vector = Pre_trained_data.get(word)\n",
    "    if text_vector is not None:\n",
    "        Pre_trained_data2[i] = text_vector\n",
    "print(\" Completed!\")"
   ]
  },
  {
   "cell_type": "code",
   "execution_count": 46,
   "id": "3ad9df70",
   "metadata": {},
   "outputs": [
    {
     "name": "stdout",
     "output_type": "stream",
     "text": [
      "2022-11-29 17:03:32.289447\n"
     ]
    }
   ],
   "source": [
    "\n",
    "dt = datetime.now()\n",
    "print(dt)\n",
    "\n",
    "def LSTM_Model_classifier(trained_tokens1,trained_tokens2,x_val,y_val,params):\n",
    "\n",
    "  inp=Input(shape=(total_pad, ),dtype='int32')\n",
    "\n",
    "  lstm_layer1 = Embedding(len(word_index) + 1,\n",
    "                           Pre_trained_length,\n",
    "                           weights = [Pre_trained_data2],\n",
    "                           input_length = total_pad,\n",
    "                           trainable=False,\n",
    "                           name = 'embeddings')\n",
    "  embedded_sequences = lstm_layer1(inp)\n",
    "\n",
    "  x = LSTM(params['output_count_lstm'], return_sequences=True,name='lstm_layer')(embedded_sequences)\n",
    "  \n",
    "  x = GlobalMaxPool1D()(x)\n",
    "  \n",
    "  x = Dropout(params['dropout'])(x)\n",
    "  \n",
    "  x = Dense(params['output_count_dense'], activation=params['activation'], kernel_initializer='he_uniform')(x)\n",
    "  \n",
    "  x = Dropout(params['dropout'])(x)\n",
    "  \n",
    "  preds = Dense(6, activation=params['last_activation'], kernel_initializer='glorot_uniform')(x)\n",
    "\n",
    "  model = Model(inputs=inp, outputs=preds)\n",
    "\n",
    "  model.compile(loss=params['loss'], optimizer=params['optimizer'], metrics=['accuracy'])\n",
    "\n",
    "  model_info=model.fit(trained_tokens1,trained_tokens2, epochs=params['epochs'], batch_size=params['batch_size'],  validation_data=(x_val, y_val))\n",
    "\n",
    "  return model_info, model\n"
   ]
  },
  {
   "cell_type": "code",
   "execution_count": 49,
   "id": "82435bf7",
   "metadata": {},
   "outputs": [],
   "source": [
    "p={\n",
    "    'output_count_lstm': [40,50,60],\n",
    "    'output_count_dense': [30,40,50],\n",
    "    'batch_size': [32],\n",
    "    'epochs':[3],\n",
    "    'optimizer':['adam'],\n",
    "    'activation':['relu'],\n",
    "    'last_activation': ['sigmoid'],\n",
    "    'dropout':[0.1,0.2],\n",
    "    'loss': ['binary_crossentropy']   \n",
    "}"
   ]
  },
  {
   "cell_type": "code",
   "execution_count": 50,
   "id": "4e0be274",
   "metadata": {},
   "outputs": [
    {
     "name": "stdout",
     "output_type": "stream",
     "text": [
      "2022-11-29 17:08:49.583119\n"
     ]
    },
    {
     "name": "stderr",
     "output_type": "stream",
     "text": [
      "  0%|                                                                                           | 0/18 [00:00<?, ?it/s]"
     ]
    },
    {
     "name": "stdout",
     "output_type": "stream",
     "text": [
      "{'output_count_lstm': 40, 'output_count_dense': 30, 'batch_size': 32, 'epochs': 3, 'optimizer': 'adam', 'activation': 'relu', 'last_activation': 'sigmoid', 'dropout': 0.1, 'loss': 'binary_crossentropy'}\n",
      "Epoch 1/3\n",
      "3990/3990 [==============================] - 554s 138ms/step - loss: 0.0766 - accuracy: 0.8425 - val_loss: 0.0613 - val_accuracy: 0.9865\n",
      "Epoch 2/3\n",
      "3990/3990 [==============================] - 557s 140ms/step - loss: 0.0623 - accuracy: 0.9141 - val_loss: 0.0581 - val_accuracy: 0.9916\n",
      "Epoch 3/3\n",
      "3990/3990 [==============================] - 554s 139ms/step - loss: 0.0594 - accuracy: 0.9253 - val_loss: 0.0575 - val_accuracy: 0.9794\n"
     ]
    },
    {
     "name": "stderr",
     "output_type": "stream",
     "text": [
      "  6%|████▍                                                                          | 1/18 [27:51<7:53:37, 1671.62s/it]"
     ]
    },
    {
     "name": "stdout",
     "output_type": "stream",
     "text": [
      "{'output_count_lstm': 40, 'output_count_dense': 30, 'batch_size': 32, 'epochs': 3, 'optimizer': 'adam', 'activation': 'relu', 'last_activation': 'sigmoid', 'dropout': 0.2, 'loss': 'binary_crossentropy'}\n",
      "Epoch 1/3\n",
      "3990/3990 [==============================] - 559s 139ms/step - loss: 0.0775 - accuracy: 0.8654 - val_loss: 0.0608 - val_accuracy: 0.9938\n",
      "Epoch 2/3\n",
      "3990/3990 [==============================] - 554s 139ms/step - loss: 0.0642 - accuracy: 0.9008 - val_loss: 0.0595 - val_accuracy: 0.9907\n",
      "Epoch 3/3\n",
      "3990/3990 [==============================] - 552s 138ms/step - loss: 0.0614 - accuracy: 0.9117 - val_loss: 0.0585 - val_accuracy: 0.9938\n"
     ]
    },
    {
     "name": "stderr",
     "output_type": "stream",
     "text": [
      " 11%|████████▊                                                                      | 2/18 [55:39<7:25:09, 1669.31s/it]"
     ]
    },
    {
     "name": "stdout",
     "output_type": "stream",
     "text": [
      "{'output_count_lstm': 40, 'output_count_dense': 40, 'batch_size': 32, 'epochs': 3, 'optimizer': 'adam', 'activation': 'relu', 'last_activation': 'sigmoid', 'dropout': 0.1, 'loss': 'binary_crossentropy'}\n",
      "Epoch 1/3\n",
      "3990/3990 [==============================] - 497s 124ms/step - loss: 0.0750 - accuracy: 0.9183 - val_loss: 0.0609 - val_accuracy: 0.9937\n",
      "Epoch 2/3\n",
      "3990/3990 [==============================] - 402s 101ms/step - loss: 0.0628 - accuracy: 0.9384 - val_loss: 0.0585 - val_accuracy: 0.9698\n",
      "Epoch 3/3\n",
      "3990/3990 [==============================] - 365s 91ms/step - loss: 0.0597 - accuracy: 0.8876 - val_loss: 0.0575 - val_accuracy: 0.9470\n"
     ]
    },
    {
     "name": "stderr",
     "output_type": "stream",
     "text": [
      " 17%|████████████▊                                                                | 3/18 [1:16:45<6:11:19, 1485.32s/it]"
     ]
    },
    {
     "name": "stdout",
     "output_type": "stream",
     "text": [
      "{'output_count_lstm': 40, 'output_count_dense': 40, 'batch_size': 32, 'epochs': 3, 'optimizer': 'adam', 'activation': 'relu', 'last_activation': 'sigmoid', 'dropout': 0.2, 'loss': 'binary_crossentropy'}\n",
      "Epoch 1/3\n",
      "3990/3990 [==============================] - 362s 90ms/step - loss: 0.0798 - accuracy: 0.8626 - val_loss: 0.0619 - val_accuracy: 0.9938\n",
      "Epoch 2/3\n",
      "3990/3990 [==============================] - 358s 90ms/step - loss: 0.0644 - accuracy: 0.9033 - val_loss: 0.0590 - val_accuracy: 0.9938\n",
      "Epoch 3/3\n",
      "3990/3990 [==============================] - 363s 91ms/step - loss: 0.0613 - accuracy: 0.9006 - val_loss: 0.0586 - val_accuracy: 0.9938\n"
     ]
    },
    {
     "name": "stderr",
     "output_type": "stream",
     "text": [
      " 22%|█████████████████                                                            | 4/18 [1:34:50<5:09:40, 1327.16s/it]"
     ]
    },
    {
     "name": "stdout",
     "output_type": "stream",
     "text": [
      "{'output_count_lstm': 40, 'output_count_dense': 50, 'batch_size': 32, 'epochs': 3, 'optimizer': 'adam', 'activation': 'relu', 'last_activation': 'sigmoid', 'dropout': 0.1, 'loss': 'binary_crossentropy'}\n",
      "Epoch 1/3\n",
      "3990/3990 [==============================] - 357s 89ms/step - loss: 0.0748 - accuracy: 0.8931 - val_loss: 0.0595 - val_accuracy: 0.9933\n",
      "Epoch 2/3\n",
      "3990/3990 [==============================] - 352s 88ms/step - loss: 0.0617 - accuracy: 0.9303 - val_loss: 0.0588 - val_accuracy: 0.9937\n",
      "Epoch 3/3\n",
      "3990/3990 [==============================] - 2740s 687ms/step - loss: 0.0591 - accuracy: 0.9276 - val_loss: 0.0568 - val_accuracy: 0.9937\n"
     ]
    },
    {
     "name": "stderr",
     "output_type": "stream",
     "text": [
      " 28%|█████████████████████▍                                                       | 5/18 [2:32:21<7:33:29, 2093.04s/it]"
     ]
    },
    {
     "name": "stdout",
     "output_type": "stream",
     "text": [
      "{'output_count_lstm': 40, 'output_count_dense': 50, 'batch_size': 32, 'epochs': 3, 'optimizer': 'adam', 'activation': 'relu', 'last_activation': 'sigmoid', 'dropout': 0.2, 'loss': 'binary_crossentropy'}\n",
      "Epoch 1/3\n",
      "3990/3990 [==============================] - 420s 105ms/step - loss: 0.0813 - accuracy: 0.9340 - val_loss: 0.0631 - val_accuracy: 0.9938\n",
      "Epoch 2/3\n",
      "3990/3990 [==============================] - 396s 99ms/step - loss: 0.0651 - accuracy: 0.9445 - val_loss: 0.0595 - val_accuracy: 0.9873\n",
      "Epoch 3/3\n",
      "3990/3990 [==============================] - 383s 96ms/step - loss: 0.0617 - accuracy: 0.9275 - val_loss: 0.0579 - val_accuracy: 0.9938\n"
     ]
    },
    {
     "name": "stderr",
     "output_type": "stream",
     "text": [
      " 33%|█████████████████████████▋                                                   | 6/18 [2:52:21<5:57:55, 1789.59s/it]"
     ]
    },
    {
     "name": "stdout",
     "output_type": "stream",
     "text": [
      "{'output_count_lstm': 50, 'output_count_dense': 30, 'batch_size': 32, 'epochs': 3, 'optimizer': 'adam', 'activation': 'relu', 'last_activation': 'sigmoid', 'dropout': 0.1, 'loss': 'binary_crossentropy'}\n",
      "Epoch 1/3\n",
      "3990/3990 [==============================] - 418s 104ms/step - loss: 0.0787 - accuracy: 0.8726 - val_loss: 0.0605 - val_accuracy: 0.9824\n",
      "Epoch 2/3\n",
      "3990/3990 [==============================] - 418s 105ms/step - loss: 0.0628 - accuracy: 0.9114 - val_loss: 0.0599 - val_accuracy: 0.9936\n",
      "Epoch 3/3\n",
      "3990/3990 [==============================] - 424s 106ms/step - loss: 0.0597 - accuracy: 0.8832 - val_loss: 0.0574 - val_accuracy: 0.9320\n"
     ]
    },
    {
     "name": "stderr",
     "output_type": "stream",
     "text": [
      " 39%|█████████████████████████████▉                                               | 7/18 [3:13:23<4:56:27, 1617.02s/it]"
     ]
    },
    {
     "name": "stdout",
     "output_type": "stream",
     "text": [
      "{'output_count_lstm': 50, 'output_count_dense': 30, 'batch_size': 32, 'epochs': 3, 'optimizer': 'adam', 'activation': 'relu', 'last_activation': 'sigmoid', 'dropout': 0.2, 'loss': 'binary_crossentropy'}\n",
      "Epoch 1/3\n",
      "3990/3990 [==============================] - 405s 101ms/step - loss: 0.0800 - accuracy: 0.8318 - val_loss: 0.0605 - val_accuracy: 0.9925\n",
      "Epoch 2/3\n",
      "3990/3990 [==============================] - 408s 102ms/step - loss: 0.0638 - accuracy: 0.8870 - val_loss: 0.0601 - val_accuracy: 0.9938\n",
      "Epoch 3/3\n",
      "3990/3990 [==============================] - 406s 102ms/step - loss: 0.0609 - accuracy: 0.8748 - val_loss: 0.0574 - val_accuracy: 0.9809\n"
     ]
    },
    {
     "name": "stderr",
     "output_type": "stream",
     "text": [
      " 44%|██████████████████████████████████▏                                          | 8/18 [3:33:45<4:08:31, 1491.15s/it]"
     ]
    },
    {
     "name": "stdout",
     "output_type": "stream",
     "text": [
      "{'output_count_lstm': 50, 'output_count_dense': 40, 'batch_size': 32, 'epochs': 3, 'optimizer': 'adam', 'activation': 'relu', 'last_activation': 'sigmoid', 'dropout': 0.1, 'loss': 'binary_crossentropy'}\n",
      "Epoch 1/3\n",
      "3990/3990 [==============================] - 438s 109ms/step - loss: 0.0761 - accuracy: 0.8815 - val_loss: 0.0598 - val_accuracy: 0.9822\n",
      "Epoch 2/3\n",
      "3990/3990 [==============================] - 441s 110ms/step - loss: 0.0614 - accuracy: 0.9106 - val_loss: 0.0581 - val_accuracy: 0.9550\n",
      "Epoch 3/3\n",
      "3990/3990 [==============================] - 432s 108ms/step - loss: 0.0586 - accuracy: 0.8857 - val_loss: 0.0574 - val_accuracy: 0.9936\n"
     ]
    },
    {
     "name": "stderr",
     "output_type": "stream",
     "text": [
      " 50%|██████████████████████████████████████▌                                      | 9/18 [3:55:38<3:35:19, 1435.51s/it]"
     ]
    },
    {
     "name": "stdout",
     "output_type": "stream",
     "text": [
      "{'output_count_lstm': 50, 'output_count_dense': 40, 'batch_size': 32, 'epochs': 3, 'optimizer': 'adam', 'activation': 'relu', 'last_activation': 'sigmoid', 'dropout': 0.2, 'loss': 'binary_crossentropy'}\n",
      "Epoch 1/3\n",
      "3990/3990 [==============================] - 442s 110ms/step - loss: 0.0802 - accuracy: 0.8917 - val_loss: 0.0610 - val_accuracy: 0.9938\n",
      "Epoch 2/3\n",
      "3990/3990 [==============================] - 431s 108ms/step - loss: 0.0640 - accuracy: 0.9320 - val_loss: 0.0585 - val_accuracy: 0.9705\n",
      "Epoch 3/3\n",
      "3990/3990 [==============================] - 429s 107ms/step - loss: 0.0606 - accuracy: 0.9104 - val_loss: 0.0573 - val_accuracy: 0.9936\n"
     ]
    },
    {
     "name": "stderr",
     "output_type": "stream",
     "text": [
      " 56%|██████████████████████████████████████████▏                                 | 10/18 [4:17:22<3:05:58, 1394.80s/it]"
     ]
    },
    {
     "name": "stdout",
     "output_type": "stream",
     "text": [
      "{'output_count_lstm': 50, 'output_count_dense': 50, 'batch_size': 32, 'epochs': 3, 'optimizer': 'adam', 'activation': 'relu', 'last_activation': 'sigmoid', 'dropout': 0.1, 'loss': 'binary_crossentropy'}\n",
      "Epoch 1/3\n",
      "3990/3990 [==============================] - 421s 105ms/step - loss: 0.0739 - accuracy: 0.8976 - val_loss: 0.0611 - val_accuracy: 0.9938\n",
      "Epoch 2/3\n",
      "3990/3990 [==============================] - 415s 104ms/step - loss: 0.0612 - accuracy: 0.9181 - val_loss: 0.0572 - val_accuracy: 0.9931\n",
      "Epoch 3/3\n",
      "3990/3990 [==============================] - 425s 107ms/step - loss: 0.0583 - accuracy: 0.9433 - val_loss: 0.0564 - val_accuracy: 0.9849\n"
     ]
    },
    {
     "name": "stderr",
     "output_type": "stream",
     "text": [
      " 61%|██████████████████████████████████████████████▍                             | 11/18 [4:38:23<2:37:58, 1354.10s/it]"
     ]
    },
    {
     "name": "stdout",
     "output_type": "stream",
     "text": [
      "{'output_count_lstm': 50, 'output_count_dense': 50, 'batch_size': 32, 'epochs': 3, 'optimizer': 'adam', 'activation': 'relu', 'last_activation': 'sigmoid', 'dropout': 0.2, 'loss': 'binary_crossentropy'}\n",
      "Epoch 1/3\n",
      "3990/3990 [==============================] - 432s 108ms/step - loss: 0.0773 - accuracy: 0.8667 - val_loss: 0.0621 - val_accuracy: 0.9938\n",
      "Epoch 2/3\n",
      "3990/3990 [==============================] - 439s 110ms/step - loss: 0.0629 - accuracy: 0.9250 - val_loss: 0.0583 - val_accuracy: 0.9938\n",
      "Epoch 3/3\n",
      "3990/3990 [==============================] - 443s 111ms/step - loss: 0.0606 - accuracy: 0.9127 - val_loss: 0.0573 - val_accuracy: 0.9936\n"
     ]
    },
    {
     "name": "stderr",
     "output_type": "stream",
     "text": [
      " 67%|██████████████████████████████████████████████████▋                         | 12/18 [5:00:19<2:14:14, 1342.36s/it]"
     ]
    },
    {
     "name": "stdout",
     "output_type": "stream",
     "text": [
      "{'output_count_lstm': 60, 'output_count_dense': 30, 'batch_size': 32, 'epochs': 3, 'optimizer': 'adam', 'activation': 'relu', 'last_activation': 'sigmoid', 'dropout': 0.1, 'loss': 'binary_crossentropy'}\n",
      "Epoch 1/3\n",
      "3990/3990 [==============================] - 505s 126ms/step - loss: 0.0768 - accuracy: 0.8477 - val_loss: 0.0608 - val_accuracy: 0.9834\n",
      "Epoch 2/3\n",
      "3990/3990 [==============================] - 483s 121ms/step - loss: 0.0624 - accuracy: 0.8940 - val_loss: 0.0596 - val_accuracy: 0.9920\n",
      "Epoch 3/3\n",
      "3990/3990 [==============================] - 496s 124ms/step - loss: 0.0594 - accuracy: 0.9207 - val_loss: 0.0579 - val_accuracy: 0.9740\n"
     ]
    },
    {
     "name": "stderr",
     "output_type": "stream",
     "text": [
      " 72%|██████████████████████████████████████████████████████▉                     | 13/18 [5:25:05<1:55:29, 1385.81s/it]"
     ]
    },
    {
     "name": "stdout",
     "output_type": "stream",
     "text": [
      "{'output_count_lstm': 60, 'output_count_dense': 30, 'batch_size': 32, 'epochs': 3, 'optimizer': 'adam', 'activation': 'relu', 'last_activation': 'sigmoid', 'dropout': 0.2, 'loss': 'binary_crossentropy'}\n",
      "Epoch 1/3\n",
      "3990/3990 [==============================] - 598s 149ms/step - loss: 0.0814 - accuracy: 0.8222 - val_loss: 0.0604 - val_accuracy: 0.9938\n",
      "Epoch 2/3\n",
      "3990/3990 [==============================] - 618s 155ms/step - loss: 0.0639 - accuracy: 0.9381 - val_loss: 0.0589 - val_accuracy: 0.9938\n",
      "Epoch 3/3\n",
      "3990/3990 [==============================] - 643s 161ms/step - loss: 0.0607 - accuracy: 0.9410 - val_loss: 0.0576 - val_accuracy: 0.9749\n"
     ]
    },
    {
     "name": "stderr",
     "output_type": "stream",
     "text": [
      " 78%|███████████████████████████████████████████████████████████                 | 14/18 [5:56:04<1:41:55, 1528.89s/it]"
     ]
    },
    {
     "name": "stdout",
     "output_type": "stream",
     "text": [
      "{'output_count_lstm': 60, 'output_count_dense': 40, 'batch_size': 32, 'epochs': 3, 'optimizer': 'adam', 'activation': 'relu', 'last_activation': 'sigmoid', 'dropout': 0.1, 'loss': 'binary_crossentropy'}\n",
      "Epoch 1/3\n",
      "3990/3990 [==============================] - 796s 199ms/step - loss: 0.0762 - accuracy: 0.8669 - val_loss: 0.0605 - val_accuracy: 0.9938\n",
      "Epoch 2/3\n",
      "3990/3990 [==============================] - 3757s 942ms/step - loss: 0.0619 - accuracy: 0.8910 - val_loss: 0.0584 - val_accuracy: 0.9938\n",
      "Epoch 3/3\n",
      "3990/3990 [==============================] - 1389s 348ms/step - loss: 0.0591 - accuracy: 0.8591 - val_loss: 0.0572 - val_accuracy: 0.7520\n"
     ]
    },
    {
     "name": "stderr",
     "output_type": "stream",
     "text": [
      " 83%|███████████████████████████████████████████████████████████████▎            | 15/18 [7:35:10<2:23:00, 2860.21s/it]"
     ]
    },
    {
     "name": "stdout",
     "output_type": "stream",
     "text": [
      "{'output_count_lstm': 60, 'output_count_dense': 40, 'batch_size': 32, 'epochs': 3, 'optimizer': 'adam', 'activation': 'relu', 'last_activation': 'sigmoid', 'dropout': 0.2, 'loss': 'binary_crossentropy'}\n",
      "Epoch 1/3\n",
      "3990/3990 [==============================] - 1808s 452ms/step - loss: 0.0793 - accuracy: 0.8712 - val_loss: 0.0606 - val_accuracy: 0.9938\n",
      "Epoch 2/3\n",
      "3990/3990 [==============================] - 1806s 453ms/step - loss: 0.0635 - accuracy: 0.9363 - val_loss: 0.0585 - val_accuracy: 0.9872\n",
      "Epoch 3/3\n",
      "3990/3990 [==============================] - 1875s 470ms/step - loss: 0.0604 - accuracy: 0.9099 - val_loss: 0.0575 - val_accuracy: 0.9938\n"
     ]
    },
    {
     "name": "stderr",
     "output_type": "stream",
     "text": [
      " 89%|███████████████████████████████████████████████████████████████████▌        | 16/18 [9:06:43<2:01:45, 3652.76s/it]"
     ]
    },
    {
     "name": "stdout",
     "output_type": "stream",
     "text": [
      "{'output_count_lstm': 60, 'output_count_dense': 50, 'batch_size': 32, 'epochs': 3, 'optimizer': 'adam', 'activation': 'relu', 'last_activation': 'sigmoid', 'dropout': 0.1, 'loss': 'binary_crossentropy'}\n",
      "Epoch 1/3\n",
      "3990/3990 [==============================] - 2049s 513ms/step - loss: 0.0730 - accuracy: 0.8606 - val_loss: 0.0603 - val_accuracy: 0.9938\n",
      "Epoch 2/3\n",
      "3990/3990 [==============================] - 2241s 562ms/step - loss: 0.0609 - accuracy: 0.9021 - val_loss: 0.0574 - val_accuracy: 0.9938\n",
      "Epoch 3/3\n",
      "3990/3990 [==============================] - 1106s 277ms/step - loss: 0.0580 - accuracy: 0.8953 - val_loss: 0.0577 - val_accuracy: 0.9938\n"
     ]
    },
    {
     "name": "stderr",
     "output_type": "stream",
     "text": [
      " 94%|██████████████████████████████████████████████████████████████████████▊    | 17/18 [10:36:42<1:09:37, 4177.95s/it]"
     ]
    },
    {
     "name": "stdout",
     "output_type": "stream",
     "text": [
      "{'output_count_lstm': 60, 'output_count_dense': 50, 'batch_size': 32, 'epochs': 3, 'optimizer': 'adam', 'activation': 'relu', 'last_activation': 'sigmoid', 'dropout': 0.2, 'loss': 'binary_crossentropy'}\n",
      "Epoch 1/3\n",
      "3990/3990 [==============================] - 1060s 265ms/step - loss: 0.0765 - accuracy: 0.8692 - val_loss: 0.0608 - val_accuracy: 0.9938\n",
      "Epoch 2/3\n",
      "3990/3990 [==============================] - 1092s 274ms/step - loss: 0.0627 - accuracy: 0.9053 - val_loss: 0.0586 - val_accuracy: 0.9901\n",
      "Epoch 3/3\n",
      "3990/3990 [==============================] - 1112s 279ms/step - loss: 0.0598 - accuracy: 0.9171 - val_loss: 0.0588 - val_accuracy: 0.9907\n"
     ]
    },
    {
     "name": "stderr",
     "output_type": "stream",
     "text": [
      "100%|█████████████████████████████████████████████████████████████████████████████| 18/18 [11:31:09<00:00, 2303.84s/it]\n"
     ]
    }
   ],
   "source": [
    "dt = datetime.now()\n",
    "print(dt)\n",
    "\n",
    "scan_results = talos.Scan(x=trained_tokens1,\n",
    "               y=trained_tokens2,\n",
    "               x_val=x_val,\n",
    "               y_val=y_val,\n",
    "               model=LSTM_Model_classifier,\n",
    "               params=p,\n",
    "               experiment_name='lstm_params',\n",
    "               print_params=True)"
   ]
  },
  {
   "cell_type": "code",
   "execution_count": 51,
   "id": "92a6e5a9",
   "metadata": {},
   "outputs": [],
   "source": [
    "inp=Input(shape=(total_pad, ),dtype='int32')\n",
    "lstm_layer1 = Embedding(len(word_index) + 1,\n",
    "                           Pre_trained_length,\n",
    "                           weights = [Pre_trained_data2],\n",
    "                           input_length = total_pad,\n",
    "                           trainable=False,\n",
    "                           name = 'embeddings')\n",
    "embedded_sequences = lstm_layer1(inp)\n",
    "x = LSTM(50, return_sequences=True,name='lstm_layer')(embedded_sequences)\n",
    "x = GlobalMaxPool1D()(x)\n",
    "x = Dropout(0.1)(x)\n",
    "x = Dense(50, activation=\"relu\", kernel_initializer='he_uniform')(x)\n",
    "x = Dropout(0.1)(x)\n",
    "preds = Dense(6, activation=\"sigmoid\", kernel_initializer='glorot_uniform')(x)\n",
    "model_1 = Model(inputs=inp, outputs=preds)\n",
    "model_1.compile(loss='binary_crossentropy',\n",
    "                  optimizer='adam',\n",
    "                  metrics=['accuracy'])"
   ]
  },
  {
   "cell_type": "code",
   "execution_count": 52,
   "id": "b0849c3c",
   "metadata": {},
   "outputs": [
    {
     "name": "stdout",
     "output_type": "stream",
     "text": [
      "2022-11-30 08:01:34.818730\n",
      "Model: \"model\"\n",
      "_________________________________________________________________\n",
      " Layer (type)                Output Shape              Param #   \n",
      "=================================================================\n",
      " input_1 (InputLayer)        [(None, 200)]             0         \n",
      "                                                                 \n",
      " embeddings (Embedding)      (None, 200, 300)          44675400  \n",
      "                                                                 \n",
      " lstm_layer (LSTM)           (None, 200, 50)           70200     \n",
      "                                                                 \n",
      " global_max_pooling1d (Globa  (None, 50)               0         \n",
      " lMaxPooling1D)                                                  \n",
      "                                                                 \n",
      " dropout (Dropout)           (None, 50)                0         \n",
      "                                                                 \n",
      " dense (Dense)               (None, 50)                2550      \n",
      "                                                                 \n",
      " dropout_1 (Dropout)         (None, 50)                0         \n",
      "                                                                 \n",
      " dense_1 (Dense)             (None, 6)                 306       \n",
      "                                                                 \n",
      "=================================================================\n",
      "Total params: 44,748,456\n",
      "Trainable params: 73,056\n",
      "Non-trainable params: 44,675,400\n",
      "_________________________________________________________________\n"
     ]
    }
   ],
   "source": [
    "dt = datetime.now()\n",
    "print(dt)\n",
    "model_1.summary()"
   ]
  },
  {
   "cell_type": "code",
   "execution_count": 55,
   "id": "b374b3b6",
   "metadata": {},
   "outputs": [
    {
     "name": "stdout",
     "output_type": "stream",
     "text": [
      "2022-11-30 10:30:07.505225\n",
      "Epoch 1/3\n",
      "3990/3990 [==============================] - 2257s 566ms/step - loss: 0.0516 - accuracy: 0.8704 - val_loss: 0.0567 - val_accuracy: 0.9424\n",
      "Epoch 2/3\n",
      "3990/3990 [==============================] - 1455s 365ms/step - loss: 0.0497 - accuracy: 0.8949 - val_loss: 0.0582 - val_accuracy: 0.9866\n",
      "Epoch 3/3\n",
      "3990/3990 [==============================] - 1999s 501ms/step - loss: 0.0481 - accuracy: 0.8935 - val_loss: 0.0584 - val_accuracy: 0.9345\n"
     ]
    }
   ],
   "source": [
    "dt = datetime.now()\n",
    "print(dt)\n",
    "\n",
    "model_info_1=model_1.fit(trained_tokens1,trained_tokens2, epochs=3, batch_size=32,  validation_data=(x_val, y_val))"
   ]
  },
  {
   "cell_type": "code",
   "execution_count": 56,
   "id": "b16e33e1",
   "metadata": {},
   "outputs": [
    {
     "name": "stderr",
     "output_type": "stream",
     "text": [
      "WARNING:absl:Found untraced functions such as lstm_cell_layer_call_fn, lstm_cell_layer_call_and_return_conditional_losses while saving (showing 2 of 2). These functions will not be directly callable after loading.\n"
     ]
    },
    {
     "name": "stdout",
     "output_type": "stream",
     "text": [
      "INFO:tensorflow:Assets written to: C:/Users/shrav/Desktop/Fall Sem/ML/project/Results_LSTM/assets\n"
     ]
    },
    {
     "name": "stderr",
     "output_type": "stream",
     "text": [
      "INFO:tensorflow:Assets written to: C:/Users/shrav/Desktop/Fall Sem/ML/project/Results_LSTM/assets\n"
     ]
    }
   ],
   "source": [
    "model_1.save(filepath=\"C:/Users/shrav/Desktop/Fall Sem/ML/project/Results_LSTM/\")"
   ]
  },
  {
   "cell_type": "code",
   "execution_count": 57,
   "id": "969df3d9",
   "metadata": {},
   "outputs": [],
   "source": [
    "loaded_model_1 = keras.models.load_model(filepath=\"C:/Users/shrav/Desktop/Fall Sem/ML/project/Results_LSTM/\")"
   ]
  },
  {
   "cell_type": "code",
   "execution_count": 58,
   "id": "f5627ca6",
   "metadata": {},
   "outputs": [
    {
     "name": "stdout",
     "output_type": "stream",
     "text": [
      "2022-11-30 12:05:48.792744\n",
      "153164/153164 [==============================] - 1832s 12ms/step\n"
     ]
    }
   ],
   "source": [
    "dt = datetime.now()\n",
    "print(dt)\n",
    "\n",
    "test_values_1 = loaded_model_1.predict([token_data_test], batch_size=1, verbose=1)"
   ]
  },
  {
   "cell_type": "code",
   "execution_count": 60,
   "id": "09cabe4a",
   "metadata": {},
   "outputs": [
    {
     "name": "stdout",
     "output_type": "stream",
     "text": [
      "2022-11-30 12:38:43.317183\n"
     ]
    }
   ],
   "source": [
    "dt = datetime.now()\n",
    "print(dt)\n",
    "\n",
    "sample_submission = pd.read_csv('C:/Users/shrav/Desktop/Fall Sem/ML/project/Train/test_labels.csv')\n",
    "test_values_1=pd.DataFrame(test_values_1,columns=['toxic', 'severe_toxic', 'obscene', 'threat', 'insult', 'identity_hate'])\n",
    "submission = pd.DataFrame(sample_submission[\"id\"])\n",
    "combined_submission=pd.concat([submission,test_values_1],axis=1)\n",
    "combined_submission.to_csv('C:/Users/shrav/Desktop/Fall Sem/ML/project/Results_LSTM/lstm_results.csv', index=False)"
   ]
  },
  {
   "cell_type": "code",
   "execution_count": 61,
   "id": "c1cfc7c5",
   "metadata": {},
   "outputs": [],
   "source": [
    "def toxicity_level(string):\n",
    "    new_string = [string]\n",
    "    new_string = word_list.texts_to_sequences(new_string)\n",
    "    new_string = pad_sequences(new_string, maxlen=total_pad, padding='post')\n",
    "    \n",
    "    prediction = model_1.predict(new_string) \n",
    "    print(\"Toxicity levels for '{}':\".format(string))\n",
    "    print('Toxic:         {:.0%}'.format(prediction[0][0]))\n",
    "    print('Severe Toxic:  {:.0%}'.format(prediction[0][1]))\n",
    "    print('Obscene:       {:.0%}'.format(prediction[0][2]))\n",
    "    print('Threat:        {:.0%}'.format(prediction[0][3]))\n",
    "    print('Insult:        {:.0%}'.format(prediction[0][4]))\n",
    "    print('Identity Hate: {:.0%}'.format(prediction[0][5]))\n",
    "    print()\n",
    "    \n",
    "    return"
   ]
  },
  {
   "cell_type": "code",
   "execution_count": 62,
   "id": "61b5a26c",
   "metadata": {},
   "outputs": [
    {
     "name": "stdout",
     "output_type": "stream",
     "text": [
      "2022-11-30 12:38:58.921800\n",
      "1/1 [==============================] - 1s 934ms/step\n",
      "Toxicity levels for 'go jump off a bridge jerk':\n",
      "Toxic:         86%\n",
      "Severe Toxic:  5%\n",
      "Obscene:       43%\n",
      "Threat:        1%\n",
      "Insult:        63%\n",
      "Identity Hate: 0%\n",
      "\n"
     ]
    }
   ],
   "source": [
    "dt = datetime.now()\n",
    "print(dt)\n",
    "\n",
    "toxicity_level('go jump off a bridge jerk')"
   ]
  },
  {
   "cell_type": "code",
   "execution_count": 63,
   "id": "f0d3a8f2",
   "metadata": {},
   "outputs": [
    {
     "name": "stdout",
     "output_type": "stream",
     "text": [
      "1/1 [==============================] - 0s 46ms/step\n",
      "Toxicity levels for 'fuck ofF!!':\n",
      "Toxic:         99%\n",
      "Severe Toxic:  28%\n",
      "Obscene:       96%\n",
      "Threat:        0%\n",
      "Insult:        74%\n",
      "Identity Hate: 0%\n",
      "\n"
     ]
    }
   ],
   "source": [
    "toxicity_level('fuck ofF!!')"
   ]
  },
  {
   "cell_type": "code",
   "execution_count": 64,
   "id": "b6f42b4b",
   "metadata": {},
   "outputs": [
    {
     "name": "stdout",
     "output_type": "stream",
     "text": [
      "1/1 [==============================] - 0s 36ms/step\n",
      "Toxicity levels for 'I Love you':\n",
      "Toxic:         3%\n",
      "Severe Toxic:  0%\n",
      "Obscene:       2%\n",
      "Threat:        0%\n",
      "Insult:        0%\n",
      "Identity Hate: 0%\n",
      "\n"
     ]
    }
   ],
   "source": [
    "toxicity_level('I Love you')"
   ]
  },
  {
   "cell_type": "code",
   "execution_count": 65,
   "id": "6456374b",
   "metadata": {},
   "outputs": [
    {
     "name": "stdout",
     "output_type": "stream",
     "text": [
      "1/1 [==============================] - 0s 39ms/step\n",
      "Toxicity levels for 'How are you':\n",
      "Toxic:         2%\n",
      "Severe Toxic:  0%\n",
      "Obscene:       1%\n",
      "Threat:        0%\n",
      "Insult:        0%\n",
      "Identity Hate: 0%\n",
      "\n"
     ]
    }
   ],
   "source": [
    "toxicity_level('How are you')"
   ]
  },
  {
   "cell_type": "code",
   "execution_count": 66,
   "id": "1ecee14b",
   "metadata": {},
   "outputs": [
    {
     "name": "stdout",
     "output_type": "stream",
     "text": [
      "1/1 [==============================] - 0s 36ms/step\n",
      "Toxicity levels for 'people die':\n",
      "Toxic:         76%\n",
      "Severe Toxic:  15%\n",
      "Obscene:       33%\n",
      "Threat:        51%\n",
      "Insult:        34%\n",
      "Identity Hate: 2%\n",
      "\n"
     ]
    }
   ],
   "source": [
    "toxicity_level('people die')"
   ]
  },
  {
   "cell_type": "code",
   "execution_count": 67,
   "id": "e6ba7522",
   "metadata": {},
   "outputs": [
    {
     "name": "stdout",
     "output_type": "stream",
     "text": [
      "1/1 [==============================] - 0s 58ms/step\n",
      "Toxicity levels for 'i hate you':\n",
      "Toxic:         43%\n",
      "Severe Toxic:  1%\n",
      "Obscene:       16%\n",
      "Threat:        0%\n",
      "Insult:        10%\n",
      "Identity Hate: 0%\n",
      "\n"
     ]
    }
   ],
   "source": [
    "toxicity_level('i hate you')"
   ]
  },
  {
   "cell_type": "code",
   "execution_count": 68,
   "id": "a1087810",
   "metadata": {},
   "outputs": [
    {
     "name": "stdout",
     "output_type": "stream",
     "text": [
      "1/1 [==============================] - 0s 37ms/step\n",
      "Toxicity levels for 'kill you':\n",
      "Toxic:         61%\n",
      "Severe Toxic:  4%\n",
      "Obscene:       12%\n",
      "Threat:        40%\n",
      "Insult:        6%\n",
      "Identity Hate: 0%\n",
      "\n"
     ]
    }
   ],
   "source": [
    "toxicity_level('kill you')"
   ]
  },
  {
   "cell_type": "code",
   "execution_count": 69,
   "id": "215d6cf8",
   "metadata": {},
   "outputs": [
    {
     "name": "stdout",
     "output_type": "stream",
     "text": [
      "1/1 [==============================] - 0s 40ms/step\n",
      "Toxicity levels for 'live love laugh':\n",
      "Toxic:         9%\n",
      "Severe Toxic:  0%\n",
      "Obscene:       2%\n",
      "Threat:        0%\n",
      "Insult:        1%\n",
      "Identity Hate: 0%\n",
      "\n"
     ]
    }
   ],
   "source": [
    "toxicity_level('live love laugh')"
   ]
  },
  {
   "cell_type": "code",
   "execution_count": 70,
   "id": "b39a0cb2",
   "metadata": {},
   "outputs": [
    {
     "name": "stdout",
     "output_type": "stream",
     "text": [
      "1/1 [==============================] - 0s 50ms/step\n",
      "Toxicity levels for 'murder':\n",
      "Toxic:         34%\n",
      "Severe Toxic:  2%\n",
      "Obscene:       4%\n",
      "Threat:        26%\n",
      "Insult:        3%\n",
      "Identity Hate: 1%\n",
      "\n"
     ]
    }
   ],
   "source": [
    "toxicity_level('murder')"
   ]
  },
  {
   "cell_type": "code",
   "execution_count": 71,
   "id": "08905058",
   "metadata": {},
   "outputs": [
    {
     "name": "stdout",
     "output_type": "stream",
     "text": [
      "1/1 [==============================] - 0s 61ms/step\n",
      "Toxicity levels for 'waste':\n",
      "Toxic:         35%\n",
      "Severe Toxic:  1%\n",
      "Obscene:       8%\n",
      "Threat:        0%\n",
      "Insult:        8%\n",
      "Identity Hate: 0%\n",
      "\n"
     ]
    }
   ],
   "source": [
    "toxicity_level('waste')"
   ]
  },
  {
   "cell_type": "code",
   "execution_count": 72,
   "id": "4a6d065b",
   "metadata": {},
   "outputs": [
    {
     "name": "stdout",
     "output_type": "stream",
     "text": [
      "1/1 [==============================] - 0s 51ms/step\n",
      "Toxicity levels for 'trash':\n",
      "Toxic:         58%\n",
      "Severe Toxic:  1%\n",
      "Obscene:       9%\n",
      "Threat:        0%\n",
      "Insult:        15%\n",
      "Identity Hate: 0%\n",
      "\n"
     ]
    }
   ],
   "source": [
    "toxicity_level('trash')"
   ]
  },
  {
   "cell_type": "code",
   "execution_count": 73,
   "id": "3d61e17d",
   "metadata": {},
   "outputs": [
    {
     "name": "stdout",
     "output_type": "stream",
     "text": [
      "1/1 [==============================] - 0s 42ms/step\n",
      "Toxicity levels for 'work':\n",
      "Toxic:         3%\n",
      "Severe Toxic:  0%\n",
      "Obscene:       1%\n",
      "Threat:        0%\n",
      "Insult:        0%\n",
      "Identity Hate: 0%\n",
      "\n"
     ]
    }
   ],
   "source": [
    "toxicity_level('work')"
   ]
  },
  {
   "cell_type": "code",
   "execution_count": 74,
   "id": "2474d645",
   "metadata": {},
   "outputs": [
    {
     "name": "stdout",
     "output_type": "stream",
     "text": [
      "1/1 [==============================] - 0s 46ms/step\n",
      "Toxicity levels for 'cooking':\n",
      "Toxic:         11%\n",
      "Severe Toxic:  5%\n",
      "Obscene:       14%\n",
      "Threat:        0%\n",
      "Insult:        7%\n",
      "Identity Hate: 0%\n",
      "\n"
     ]
    }
   ],
   "source": [
    "toxicity_level('cooking')"
   ]
  },
  {
   "cell_type": "code",
   "execution_count": 75,
   "id": "5607a7e6",
   "metadata": {},
   "outputs": [
    {
     "name": "stdout",
     "output_type": "stream",
     "text": [
      "1/1 [==============================] - 0s 41ms/step\n",
      "Toxicity levels for 'bastard':\n",
      "Toxic:         99%\n",
      "Severe Toxic:  18%\n",
      "Obscene:       87%\n",
      "Threat:        0%\n",
      "Insult:        82%\n",
      "Identity Hate: 0%\n",
      "\n"
     ]
    }
   ],
   "source": [
    "toxicity_level('bastard')"
   ]
  },
  {
   "cell_type": "code",
   "execution_count": 76,
   "id": "a31b6bba",
   "metadata": {},
   "outputs": [
    {
     "name": "stdout",
     "output_type": "stream",
     "text": [
      "1/1 [==============================] - 0s 44ms/step\n",
      "Toxicity levels for 'bitch':\n",
      "Toxic:         100%\n",
      "Severe Toxic:  35%\n",
      "Obscene:       98%\n",
      "Threat:        0%\n",
      "Insult:        91%\n",
      "Identity Hate: 1%\n",
      "\n"
     ]
    }
   ],
   "source": [
    "toxicity_level('bitch')"
   ]
  },
  {
   "cell_type": "code",
   "execution_count": 77,
   "id": "bb9ad895",
   "metadata": {},
   "outputs": [
    {
     "name": "stdout",
     "output_type": "stream",
     "text": [
      "1/1 [==============================] - 0s 44ms/step\n",
      "Toxicity levels for 'idiot':\n",
      "Toxic:         98%\n",
      "Severe Toxic:  5%\n",
      "Obscene:       65%\n",
      "Threat:        0%\n",
      "Insult:        83%\n",
      "Identity Hate: 0%\n",
      "\n"
     ]
    }
   ],
   "source": [
    "toxicity_level('idiot')"
   ]
  },
  {
   "cell_type": "code",
   "execution_count": 78,
   "id": "41fc8669",
   "metadata": {},
   "outputs": [
    {
     "name": "stdout",
     "output_type": "stream",
     "text": [
      "1/1 [==============================] - 0s 43ms/step\n",
      "Toxicity levels for 'stupid':\n",
      "Toxic:         95%\n",
      "Severe Toxic:  3%\n",
      "Obscene:       42%\n",
      "Threat:        0%\n",
      "Insult:        62%\n",
      "Identity Hate: 0%\n",
      "\n"
     ]
    }
   ],
   "source": [
    "toxicity_level('stupid')"
   ]
  },
  {
   "cell_type": "code",
   "execution_count": 79,
   "id": "a30a58f7",
   "metadata": {},
   "outputs": [
    {
     "name": "stdout",
     "output_type": "stream",
     "text": [
      "1/1 [==============================] - 0s 46ms/step\n",
      "Toxicity levels for 'COCKSUCKER BEFORE YOU PISS AROUND ON MY WORK':\n",
      "Toxic:         44%\n",
      "Severe Toxic:  1%\n",
      "Obscene:       23%\n",
      "Threat:        0%\n",
      "Insult:        7%\n",
      "Identity Hate: 0%\n",
      "\n"
     ]
    }
   ],
   "source": [
    "toxicity_level('COCKSUCKER BEFORE YOU PISS AROUND ON MY WORK')"
   ]
  },
  {
   "cell_type": "code",
   "execution_count": 80,
   "id": "eddd944b",
   "metadata": {},
   "outputs": [
    {
     "name": "stdout",
     "output_type": "stream",
     "text": [
      "1/1 [==============================] - 0s 41ms/step\n",
      "Toxicity levels for 'laugh':\n",
      "Toxic:         7%\n",
      "Severe Toxic:  0%\n",
      "Obscene:       2%\n",
      "Threat:        0%\n",
      "Insult:        1%\n",
      "Identity Hate: 0%\n",
      "\n"
     ]
    }
   ],
   "source": [
    "toxicity_level('laugh')"
   ]
  },
  {
   "cell_type": "code",
   "execution_count": 81,
   "id": "1cca431c",
   "metadata": {},
   "outputs": [
    {
     "name": "stdout",
     "output_type": "stream",
     "text": [
      "1/1 [==============================] - 0s 50ms/step\n",
      "Toxicity levels for 'sleep':\n",
      "Toxic:         17%\n",
      "Severe Toxic:  0%\n",
      "Obscene:       5%\n",
      "Threat:        0%\n",
      "Insult:        2%\n",
      "Identity Hate: 0%\n",
      "\n"
     ]
    }
   ],
   "source": [
    "toxicity_level('sleep')"
   ]
  }
 ],
 "metadata": {
  "kernelspec": {
   "display_name": "Python 3 (ipykernel)",
   "language": "python",
   "name": "python3"
  },
  "language_info": {
   "codemirror_mode": {
    "name": "ipython",
    "version": 3
   },
   "file_extension": ".py",
   "mimetype": "text/x-python",
   "name": "python",
   "nbconvert_exporter": "python",
   "pygments_lexer": "ipython3",
   "version": "3.9.13"
  }
 },
 "nbformat": 4,
 "nbformat_minor": 5
}
